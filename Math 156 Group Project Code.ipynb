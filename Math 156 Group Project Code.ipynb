{
 "cells": [
  {
   "cell_type": "code",
   "execution_count": 2,
   "id": "8bbafadf",
   "metadata": {},
   "outputs": [],
   "source": [
    "# Download data\n",
    "# import download_data"
   ]
  },
  {
   "cell_type": "code",
   "execution_count": 3,
   "id": "06e179e4",
   "metadata": {},
   "outputs": [],
   "source": [
    "# Load in data\n",
    "import numpy as np\n",
    "train_X = np.load(\"kmnist-train-imgs.npz\")['arr_0']\n",
    "train_y = np.load(\"kmnist-train-labels.npz\")['arr_0']\n",
    "test_X = np.load(\"kmnist-test-imgs.npz\")['arr_0']\n",
    "test_y = np.load(\"kmnist-test-labels.npz\")['arr_0']"
   ]
  },
  {
   "cell_type": "code",
   "execution_count": 4,
   "id": "02bd06f6",
   "metadata": {},
   "outputs": [
    {
     "data": {
      "text/plain": [
       "((60000, 28, 28), (60000,), (10000, 28, 28), (10000,))"
      ]
     },
     "execution_count": 4,
     "metadata": {},
     "output_type": "execute_result"
    }
   ],
   "source": [
    "# Check shape of data\n",
    "np.shape(train_X), np.shape(train_y), np.shape(test_X), np.shape(test_y)"
   ]
  },
  {
   "cell_type": "code",
   "execution_count": 5,
   "id": "8c00516a",
   "metadata": {},
   "outputs": [
    {
     "data": {
      "text/plain": [
       "<matplotlib.image.AxesImage at 0x1c30fe648b0>"
      ]
     },
     "execution_count": 5,
     "metadata": {},
     "output_type": "execute_result"
    },
    {
     "data": {
      "image/png": "[encoded data removed]",
      "text/plain": [
       "<Figure size 432x288 with 1 Axes>"
      ]
     },
     "metadata": {
      "needs_background": "light"
     },
     "output_type": "display_data"
    }
   ],
   "source": [
    "# View 1 of the characters\n",
    "from matplotlib import pyplot as plt\n",
    "img1 = train_X[0]\n",
    "plt.imshow(img1, cmap = plt.get_cmap('gray'))"
   ]
  },
  {
   "cell_type": "code",
   "execution_count": 6,
   "id": "b35bec9e",
   "metadata": {},
   "outputs": [],
   "source": [
    "# Normalize pixel values\n",
    "train_X = train_X / 255.0\n",
    "test_X = test_X / 255.0"
   ]
  },
  {
   "cell_type": "code",
   "execution_count": 7,
   "id": "7963cba6",
   "metadata": {},
   "outputs": [],
   "source": [
    "# Reshape Datasets\n",
    "train_X = train_X.reshape(train_X.shape[0], 28, 28, 1)\n",
    "test_X = test_X.reshape(test_X.shape[0], 28, 28, 1)"
   ]
  },
  {
   "cell_type": "code",
   "execution_count": 8,
   "id": "26cadfb0",
   "metadata": {},
   "outputs": [],
   "source": [
    "# Import neural network libraries\n",
    "import tensorflow as tf\n",
    "from tensorflow.keras.models import Sequential\n",
    "from tensorflow.keras.layers import Dense, Dropout, Activation, Flatten, Conv2D, MaxPooling2D"
   ]
  },
  {
   "cell_type": "code",
   "execution_count": 9,
   "id": "01dc3149",
   "metadata": {},
   "outputs": [],
   "source": [
    "from tensorflow.keras.utils import to_categorical\n",
    "train_y = to_categorical(train_y)\n",
    "test_y = to_categorical(test_y)"
   ]
  },
  {
   "cell_type": "code",
   "execution_count": 10,
   "id": "89af9371",
   "metadata": {},
   "outputs": [],
   "source": [
    "from tensorflow.keras.optimizers import SGD"
   ]
  },
  {
   "cell_type": "code",
   "execution_count": 11,
   "id": "876c631d",
   "metadata": {},
   "outputs": [],
   "source": [
    "from tensorflow.keras.layers import BatchNormalization"
   ]
  },
  {
   "cell_type": "code",
   "execution_count": 12,
   "id": "feb0552f",
   "metadata": {},
   "outputs": [],
   "source": [
    "from tensorflow.keras import regularizers"
   ]
  },
  {
   "cell_type": "code",
   "execution_count": 13,
   "id": "47533328",
   "metadata": {},
   "outputs": [],
   "source": [
    "# # Base Model\n",
    "\n",
    "# # 2x32 layer convolutional neural network\n",
    "# model = Sequential()\n",
    "\n",
    "# layers = 3\n",
    "\n",
    "# model.add(Conv2D(32, (3, 3), input_shape = (28, 28, 1)))\n",
    "# model.add(Activation(\"relu\"))\n",
    "# model.add(MaxPooling2D(pool_size = (2, 2)))\n",
    "\n",
    "# for i in range (layers - 1):\n",
    "#     model.add(Conv2D(32, (3, 3)))\n",
    "#     model.add(Activation(\"relu\"))\n",
    "#     model.add(MaxPooling2D(pool_size = (2, 2)))\n",
    "\n",
    "# model.add(Flatten())\n",
    "# model.add(Dense(32))\n",
    "\n",
    "# model.add(Dense(10))\n",
    "# model.add(Activation('softmax'))\n",
    "\n"
   ]
  },
  {
   "cell_type": "code",
   "execution_count": 14,
   "id": "0b67e1f3",
   "metadata": {},
   "outputs": [
    {
     "ename": "KeyboardInterrupt",
     "evalue": "",
     "output_type": "error",
     "traceback": [
      "\u001b[1;31m---------------------------------------------------------------------------\u001b[0m",
      "\u001b[1;31mKeyboardInterrupt\u001b[0m                         Traceback (most recent call last)",
      "\u001b[1;32mc:\\Users\\N\\Documents\\homework\\math 156\\project\\Math 156 Group Project Code.ipynb Cell 13'\u001b[0m in \u001b[0;36m<cell line: 3>\u001b[1;34m()\u001b[0m\n\u001b[0;32m      <a href='vscode-notebook-cell:/c%3A/Users/N/Documents/homework/math%20156/project/Math%20156%20Group%20Project%20Code.ipynb#ch0000012?line=0'>1</a>\u001b[0m \u001b[39m# M6-2 Model\u001b[39;00m\n\u001b[1;32m----> <a href='vscode-notebook-cell:/c%3A/Users/N/Documents/homework/math%20156/project/Math%20156%20Group%20Project%20Code.ipynb#ch0000012?line=2'>3</a>\u001b[0m model \u001b[39m=\u001b[39m Sequential()\n\u001b[0;32m      <a href='vscode-notebook-cell:/c%3A/Users/N/Documents/homework/math%20156/project/Math%20156%20Group%20Project%20Code.ipynb#ch0000012?line=4'>5</a>\u001b[0m model\u001b[39m.\u001b[39madd(Conv2D(\u001b[39m64\u001b[39m, (\u001b[39m3\u001b[39m, \u001b[39m3\u001b[39m), input_shape \u001b[39m=\u001b[39m (\u001b[39m28\u001b[39m, \u001b[39m28\u001b[39m, \u001b[39m1\u001b[39m)))\n\u001b[0;32m      <a href='vscode-notebook-cell:/c%3A/Users/N/Documents/homework/math%20156/project/Math%20156%20Group%20Project%20Code.ipynb#ch0000012?line=5'>6</a>\u001b[0m model\u001b[39m.\u001b[39madd(BatchNormalization())\n",
      "File \u001b[1;32m~\\AppData\\Local\\Programs\\Python\\Python310\\lib\\site-packages\\tensorflow\\python\\training\\tracking\\base.py:629\u001b[0m, in \u001b[0;36mno_automatic_dependency_tracking.<locals>._method_wrapper\u001b[1;34m(self, *args, **kwargs)\u001b[0m\n\u001b[0;32m    <a href='file:///~/AppData/Local/Programs/Python/Python310/lib/site-packages/tensorflow/python/training/tracking/base.py?line=626'>627</a>\u001b[0m \u001b[39mself\u001b[39m\u001b[39m.\u001b[39m_self_setattr_tracking \u001b[39m=\u001b[39m \u001b[39mFalse\u001b[39;00m  \u001b[39m# pylint: disable=protected-access\u001b[39;00m\n\u001b[0;32m    <a href='file:///~/AppData/Local/Programs/Python/Python310/lib/site-packages/tensorflow/python/training/tracking/base.py?line=627'>628</a>\u001b[0m \u001b[39mtry\u001b[39;00m:\n\u001b[1;32m--> <a href='file:///~/AppData/Local/Programs/Python/Python310/lib/site-packages/tensorflow/python/training/tracking/base.py?line=628'>629</a>\u001b[0m   result \u001b[39m=\u001b[39m method(\u001b[39mself\u001b[39m, \u001b[39m*\u001b[39margs, \u001b[39m*\u001b[39m\u001b[39m*\u001b[39mkwargs)\n\u001b[0;32m    <a href='file:///~/AppData/Local/Programs/Python/Python310/lib/site-packages/tensorflow/python/training/tracking/base.py?line=629'>630</a>\u001b[0m \u001b[39mfinally\u001b[39;00m:\n\u001b[0;32m    <a href='file:///~/AppData/Local/Programs/Python/Python310/lib/site-packages/tensorflow/python/training/tracking/base.py?line=630'>631</a>\u001b[0m   \u001b[39mself\u001b[39m\u001b[39m.\u001b[39m_self_setattr_tracking \u001b[39m=\u001b[39m previous_value  \u001b[39m# pylint: disable=protected-access\u001b[39;00m\n",
      "File \u001b[1;32m~\\AppData\\Local\\Programs\\Python\\Python310\\lib\\site-packages\\keras\\utils\\traceback_utils.py:64\u001b[0m, in \u001b[0;36mfilter_traceback.<locals>.error_handler\u001b[1;34m(*args, **kwargs)\u001b[0m\n\u001b[0;32m     <a href='file:///~/AppData/Local/Programs/Python/Python310/lib/site-packages/keras/utils/traceback_utils.py?line=61'>62</a>\u001b[0m filtered_tb \u001b[39m=\u001b[39m \u001b[39mNone\u001b[39;00m\n\u001b[0;32m     <a href='file:///~/AppData/Local/Programs/Python/Python310/lib/site-packages/keras/utils/traceback_utils.py?line=62'>63</a>\u001b[0m \u001b[39mtry\u001b[39;00m:\n\u001b[1;32m---> <a href='file:///~/AppData/Local/Programs/Python/Python310/lib/site-packages/keras/utils/traceback_utils.py?line=63'>64</a>\u001b[0m   \u001b[39mreturn\u001b[39;00m fn(\u001b[39m*\u001b[39margs, \u001b[39m*\u001b[39m\u001b[39m*\u001b[39mkwargs)\n\u001b[0;32m     <a href='file:///~/AppData/Local/Programs/Python/Python310/lib/site-packages/keras/utils/traceback_utils.py?line=64'>65</a>\u001b[0m \u001b[39mexcept\u001b[39;00m \u001b[39mException\u001b[39;00m \u001b[39mas\u001b[39;00m e:  \u001b[39m# pylint: disable=broad-except\u001b[39;00m\n\u001b[0;32m     <a href='file:///~/AppData/Local/Programs/Python/Python310/lib/site-packages/keras/utils/traceback_utils.py?line=65'>66</a>\u001b[0m   filtered_tb \u001b[39m=\u001b[39m _process_traceback_frames(e\u001b[39m.\u001b[39m__traceback__)\n",
      "File \u001b[1;32m~\\AppData\\Local\\Programs\\Python\\Python310\\lib\\site-packages\\keras\\engine\\sequential.py:109\u001b[0m, in \u001b[0;36mSequential.__init__\u001b[1;34m(self, layers, name)\u001b[0m\n\u001b[0;32m    <a href='file:///~/AppData/Local/Programs/Python/Python310/lib/site-packages/keras/engine/sequential.py?line=101'>102</a>\u001b[0m \u001b[39m\"\"\"Creates a `Sequential` model instance.\u001b[39;00m\n\u001b[0;32m    <a href='file:///~/AppData/Local/Programs/Python/Python310/lib/site-packages/keras/engine/sequential.py?line=102'>103</a>\u001b[0m \n\u001b[0;32m    <a href='file:///~/AppData/Local/Programs/Python/Python310/lib/site-packages/keras/engine/sequential.py?line=103'>104</a>\u001b[0m \u001b[39mArgs:\u001b[39;00m\n\u001b[0;32m    <a href='file:///~/AppData/Local/Programs/Python/Python310/lib/site-packages/keras/engine/sequential.py?line=104'>105</a>\u001b[0m \u001b[39m  layers: Optional list of layers to add to the model.\u001b[39;00m\n\u001b[0;32m    <a href='file:///~/AppData/Local/Programs/Python/Python310/lib/site-packages/keras/engine/sequential.py?line=105'>106</a>\u001b[0m \u001b[39m  name: Optional name for the model.\u001b[39;00m\n\u001b[0;32m    <a href='file:///~/AppData/Local/Programs/Python/Python310/lib/site-packages/keras/engine/sequential.py?line=106'>107</a>\u001b[0m \u001b[39m\"\"\"\u001b[39;00m\n\u001b[0;32m    <a href='file:///~/AppData/Local/Programs/Python/Python310/lib/site-packages/keras/engine/sequential.py?line=107'>108</a>\u001b[0m \u001b[39m# Skip the init in FunctionalModel since model doesn't have input/output yet\u001b[39;00m\n\u001b[1;32m--> <a href='file:///~/AppData/Local/Programs/Python/Python310/lib/site-packages/keras/engine/sequential.py?line=108'>109</a>\u001b[0m \u001b[39msuper\u001b[39;49m(functional\u001b[39m.\u001b[39;49mFunctional, \u001b[39mself\u001b[39;49m)\u001b[39m.\u001b[39;49m\u001b[39m__init__\u001b[39;49m(  \u001b[39m# pylint: disable=bad-super-call\u001b[39;49;00m\n\u001b[0;32m    <a href='file:///~/AppData/Local/Programs/Python/Python310/lib/site-packages/keras/engine/sequential.py?line=109'>110</a>\u001b[0m     name\u001b[39m=\u001b[39;49mname, autocast\u001b[39m=\u001b[39;49m\u001b[39mFalse\u001b[39;49;00m)\n\u001b[0;32m    <a href='file:///~/AppData/Local/Programs/Python/Python310/lib/site-packages/keras/engine/sequential.py?line=110'>111</a>\u001b[0m base_layer\u001b[39m.\u001b[39mkeras_api_gauge\u001b[39m.\u001b[39mget_cell(\u001b[39m'\u001b[39m\u001b[39mSequential\u001b[39m\u001b[39m'\u001b[39m)\u001b[39m.\u001b[39mset(\u001b[39mTrue\u001b[39;00m)\n\u001b[0;32m    <a href='file:///~/AppData/Local/Programs/Python/Python310/lib/site-packages/keras/engine/sequential.py?line=111'>112</a>\u001b[0m \u001b[39mself\u001b[39m\u001b[39m.\u001b[39msupports_masking \u001b[39m=\u001b[39m \u001b[39mTrue\u001b[39;00m\n",
      "File \u001b[1;32m~\\AppData\\Local\\Programs\\Python\\Python310\\lib\\site-packages\\tensorflow\\python\\training\\tracking\\base.py:629\u001b[0m, in \u001b[0;36mno_automatic_dependency_tracking.<locals>._method_wrapper\u001b[1;34m(self, *args, **kwargs)\u001b[0m\n\u001b[0;32m    <a href='file:///~/AppData/Local/Programs/Python/Python310/lib/site-packages/tensorflow/python/training/tracking/base.py?line=626'>627</a>\u001b[0m \u001b[39mself\u001b[39m\u001b[39m.\u001b[39m_self_setattr_tracking \u001b[39m=\u001b[39m \u001b[39mFalse\u001b[39;00m  \u001b[39m# pylint: disable=protected-access\u001b[39;00m\n\u001b[0;32m    <a href='file:///~/AppData/Local/Programs/Python/Python310/lib/site-packages/tensorflow/python/training/tracking/base.py?line=627'>628</a>\u001b[0m \u001b[39mtry\u001b[39;00m:\n\u001b[1;32m--> <a href='file:///~/AppData/Local/Programs/Python/Python310/lib/site-packages/tensorflow/python/training/tracking/base.py?line=628'>629</a>\u001b[0m   result \u001b[39m=\u001b[39m method(\u001b[39mself\u001b[39m, \u001b[39m*\u001b[39margs, \u001b[39m*\u001b[39m\u001b[39m*\u001b[39mkwargs)\n\u001b[0;32m    <a href='file:///~/AppData/Local/Programs/Python/Python310/lib/site-packages/tensorflow/python/training/tracking/base.py?line=629'>630</a>\u001b[0m \u001b[39mfinally\u001b[39;00m:\n\u001b[0;32m    <a href='file:///~/AppData/Local/Programs/Python/Python310/lib/site-packages/tensorflow/python/training/tracking/base.py?line=630'>631</a>\u001b[0m   \u001b[39mself\u001b[39m\u001b[39m.\u001b[39m_self_setattr_tracking \u001b[39m=\u001b[39m previous_value  \u001b[39m# pylint: disable=protected-access\u001b[39;00m\n",
      "File \u001b[1;32m~\\AppData\\Local\\Programs\\Python\\Python310\\lib\\site-packages\\keras\\utils\\traceback_utils.py:64\u001b[0m, in \u001b[0;36mfilter_traceback.<locals>.error_handler\u001b[1;34m(*args, **kwargs)\u001b[0m\n\u001b[0;32m     <a href='file:///~/AppData/Local/Programs/Python/Python310/lib/site-packages/keras/utils/traceback_utils.py?line=61'>62</a>\u001b[0m filtered_tb \u001b[39m=\u001b[39m \u001b[39mNone\u001b[39;00m\n\u001b[0;32m     <a href='file:///~/AppData/Local/Programs/Python/Python310/lib/site-packages/keras/utils/traceback_utils.py?line=62'>63</a>\u001b[0m \u001b[39mtry\u001b[39;00m:\n\u001b[1;32m---> <a href='file:///~/AppData/Local/Programs/Python/Python310/lib/site-packages/keras/utils/traceback_utils.py?line=63'>64</a>\u001b[0m   \u001b[39mreturn\u001b[39;00m fn(\u001b[39m*\u001b[39margs, \u001b[39m*\u001b[39m\u001b[39m*\u001b[39mkwargs)\n\u001b[0;32m     <a href='file:///~/AppData/Local/Programs/Python/Python310/lib/site-packages/keras/utils/traceback_utils.py?line=64'>65</a>\u001b[0m \u001b[39mexcept\u001b[39;00m \u001b[39mException\u001b[39;00m \u001b[39mas\u001b[39;00m e:  \u001b[39m# pylint: disable=broad-except\u001b[39;00m\n\u001b[0;32m     <a href='file:///~/AppData/Local/Programs/Python/Python310/lib/site-packages/keras/utils/traceback_utils.py?line=65'>66</a>\u001b[0m   filtered_tb \u001b[39m=\u001b[39m _process_traceback_frames(e\u001b[39m.\u001b[39m__traceback__)\n",
      "File \u001b[1;32m~\\AppData\\Local\\Programs\\Python\\Python310\\lib\\site-packages\\keras\\engine\\training.py:281\u001b[0m, in \u001b[0;36mModel.__init__\u001b[1;34m(self, *args, **kwargs)\u001b[0m\n\u001b[0;32m    <a href='file:///~/AppData/Local/Programs/Python/Python310/lib/site-packages/keras/engine/training.py?line=276'>277</a>\u001b[0m \u001b[39mself\u001b[39m\u001b[39m.\u001b[39m_trackable_saver \u001b[39m=\u001b[39m saver_with_op_caching(\u001b[39mself\u001b[39m)\n\u001b[0;32m    <a href='file:///~/AppData/Local/Programs/Python/Python310/lib/site-packages/keras/engine/training.py?line=278'>279</a>\u001b[0m \u001b[39mself\u001b[39m\u001b[39m.\u001b[39m_steps_per_execution \u001b[39m=\u001b[39m \u001b[39mNone\u001b[39;00m\n\u001b[1;32m--> <a href='file:///~/AppData/Local/Programs/Python/Python310/lib/site-packages/keras/engine/training.py?line=280'>281</a>\u001b[0m \u001b[39mself\u001b[39;49m\u001b[39m.\u001b[39;49m_init_batch_counters()\n\u001b[0;32m    <a href='file:///~/AppData/Local/Programs/Python/Python310/lib/site-packages/keras/engine/training.py?line=281'>282</a>\u001b[0m \u001b[39mself\u001b[39m\u001b[39m.\u001b[39m_base_model_initialized \u001b[39m=\u001b[39m \u001b[39mTrue\u001b[39;00m\n",
      "File \u001b[1;32m~\\AppData\\Local\\Programs\\Python\\Python310\\lib\\site-packages\\tensorflow\\python\\training\\tracking\\base.py:629\u001b[0m, in \u001b[0;36mno_automatic_dependency_tracking.<locals>._method_wrapper\u001b[1;34m(self, *args, **kwargs)\u001b[0m\n\u001b[0;32m    <a href='file:///~/AppData/Local/Programs/Python/Python310/lib/site-packages/tensorflow/python/training/tracking/base.py?line=626'>627</a>\u001b[0m \u001b[39mself\u001b[39m\u001b[39m.\u001b[39m_self_setattr_tracking \u001b[39m=\u001b[39m \u001b[39mFalse\u001b[39;00m  \u001b[39m# pylint: disable=protected-access\u001b[39;00m\n\u001b[0;32m    <a href='file:///~/AppData/Local/Programs/Python/Python310/lib/site-packages/tensorflow/python/training/tracking/base.py?line=627'>628</a>\u001b[0m \u001b[39mtry\u001b[39;00m:\n\u001b[1;32m--> <a href='file:///~/AppData/Local/Programs/Python/Python310/lib/site-packages/tensorflow/python/training/tracking/base.py?line=628'>629</a>\u001b[0m   result \u001b[39m=\u001b[39m method(\u001b[39mself\u001b[39m, \u001b[39m*\u001b[39margs, \u001b[39m*\u001b[39m\u001b[39m*\u001b[39mkwargs)\n\u001b[0;32m    <a href='file:///~/AppData/Local/Programs/Python/Python310/lib/site-packages/tensorflow/python/training/tracking/base.py?line=629'>630</a>\u001b[0m \u001b[39mfinally\u001b[39;00m:\n\u001b[0;32m    <a href='file:///~/AppData/Local/Programs/Python/Python310/lib/site-packages/tensorflow/python/training/tracking/base.py?line=630'>631</a>\u001b[0m   \u001b[39mself\u001b[39m\u001b[39m.\u001b[39m_self_setattr_tracking \u001b[39m=\u001b[39m previous_value  \u001b[39m# pylint: disable=protected-access\u001b[39;00m\n",
      "File \u001b[1;32m~\\AppData\\Local\\Programs\\Python\\Python310\\lib\\site-packages\\keras\\engine\\training.py:289\u001b[0m, in \u001b[0;36mModel._init_batch_counters\u001b[1;34m(self)\u001b[0m\n\u001b[0;32m    <a href='file:///~/AppData/Local/Programs/Python/Python310/lib/site-packages/keras/engine/training.py?line=283'>284</a>\u001b[0m \u001b[39m@tf\u001b[39m\u001b[39m.\u001b[39m__internal__\u001b[39m.\u001b[39mtracking\u001b[39m.\u001b[39mno_automatic_dependency_tracking\n\u001b[0;32m    <a href='file:///~/AppData/Local/Programs/Python/Python310/lib/site-packages/keras/engine/training.py?line=284'>285</a>\u001b[0m \u001b[39mdef\u001b[39;00m \u001b[39m_init_batch_counters\u001b[39m(\u001b[39mself\u001b[39m):\n\u001b[0;32m    <a href='file:///~/AppData/Local/Programs/Python/Python310/lib/site-packages/keras/engine/training.py?line=285'>286</a>\u001b[0m   \u001b[39m# Untracked Variables, used to keep track of mini-batches seen in `fit`,\u001b[39;00m\n\u001b[0;32m    <a href='file:///~/AppData/Local/Programs/Python/Python310/lib/site-packages/keras/engine/training.py?line=286'>287</a>\u001b[0m   \u001b[39m# `evaluate`, and `predict`.\u001b[39;00m\n\u001b[0;32m    <a href='file:///~/AppData/Local/Programs/Python/Python310/lib/site-packages/keras/engine/training.py?line=287'>288</a>\u001b[0m   agg \u001b[39m=\u001b[39m tf\u001b[39m.\u001b[39mVariableAggregation\u001b[39m.\u001b[39mONLY_FIRST_REPLICA\n\u001b[1;32m--> <a href='file:///~/AppData/Local/Programs/Python/Python310/lib/site-packages/keras/engine/training.py?line=288'>289</a>\u001b[0m   \u001b[39mself\u001b[39m\u001b[39m.\u001b[39m_train_counter \u001b[39m=\u001b[39m tf\u001b[39m.\u001b[39;49mVariable(\u001b[39m0\u001b[39;49m, dtype\u001b[39m=\u001b[39;49m\u001b[39m'\u001b[39;49m\u001b[39mint64\u001b[39;49m\u001b[39m'\u001b[39;49m, aggregation\u001b[39m=\u001b[39;49magg)\n\u001b[0;32m    <a href='file:///~/AppData/Local/Programs/Python/Python310/lib/site-packages/keras/engine/training.py?line=289'>290</a>\u001b[0m   \u001b[39mself\u001b[39m\u001b[39m.\u001b[39m_test_counter \u001b[39m=\u001b[39m tf\u001b[39m.\u001b[39mVariable(\u001b[39m0\u001b[39m, dtype\u001b[39m=\u001b[39m\u001b[39m'\u001b[39m\u001b[39mint64\u001b[39m\u001b[39m'\u001b[39m, aggregation\u001b[39m=\u001b[39magg)\n\u001b[0;32m    <a href='file:///~/AppData/Local/Programs/Python/Python310/lib/site-packages/keras/engine/training.py?line=290'>291</a>\u001b[0m   \u001b[39mself\u001b[39m\u001b[39m.\u001b[39m_predict_counter \u001b[39m=\u001b[39m tf\u001b[39m.\u001b[39mVariable(\n\u001b[0;32m    <a href='file:///~/AppData/Local/Programs/Python/Python310/lib/site-packages/keras/engine/training.py?line=291'>292</a>\u001b[0m       \u001b[39m0\u001b[39m, dtype\u001b[39m=\u001b[39m\u001b[39m'\u001b[39m\u001b[39mint64\u001b[39m\u001b[39m'\u001b[39m, aggregation\u001b[39m=\u001b[39magg)\n",
      "File \u001b[1;32m~\\AppData\\Local\\Programs\\Python\\Python310\\lib\\site-packages\\tensorflow\\python\\util\\traceback_utils.py:150\u001b[0m, in \u001b[0;36mfilter_traceback.<locals>.error_handler\u001b[1;34m(*args, **kwargs)\u001b[0m\n\u001b[0;32m    <a href='file:///~/AppData/Local/Programs/Python/Python310/lib/site-packages/tensorflow/python/util/traceback_utils.py?line=147'>148</a>\u001b[0m filtered_tb \u001b[39m=\u001b[39m \u001b[39mNone\u001b[39;00m\n\u001b[0;32m    <a href='file:///~/AppData/Local/Programs/Python/Python310/lib/site-packages/tensorflow/python/util/traceback_utils.py?line=148'>149</a>\u001b[0m \u001b[39mtry\u001b[39;00m:\n\u001b[1;32m--> <a href='file:///~/AppData/Local/Programs/Python/Python310/lib/site-packages/tensorflow/python/util/traceback_utils.py?line=149'>150</a>\u001b[0m   \u001b[39mreturn\u001b[39;00m fn(\u001b[39m*\u001b[39margs, \u001b[39m*\u001b[39m\u001b[39m*\u001b[39mkwargs)\n\u001b[0;32m    <a href='file:///~/AppData/Local/Programs/Python/Python310/lib/site-packages/tensorflow/python/util/traceback_utils.py?line=150'>151</a>\u001b[0m \u001b[39mexcept\u001b[39;00m \u001b[39mException\u001b[39;00m \u001b[39mas\u001b[39;00m e:\n\u001b[0;32m    <a href='file:///~/AppData/Local/Programs/Python/Python310/lib/site-packages/tensorflow/python/util/traceback_utils.py?line=151'>152</a>\u001b[0m   filtered_tb \u001b[39m=\u001b[39m _process_traceback_frames(e\u001b[39m.\u001b[39m__traceback__)\n",
      "File \u001b[1;32m~\\AppData\\Local\\Programs\\Python\\Python310\\lib\\site-packages\\tensorflow\\python\\ops\\variables.py:267\u001b[0m, in \u001b[0;36mVariableMetaclass.__call__\u001b[1;34m(cls, *args, **kwargs)\u001b[0m\n\u001b[0;32m    <a href='file:///~/AppData/Local/Programs/Python/Python310/lib/site-packages/tensorflow/python/ops/variables.py?line=264'>265</a>\u001b[0m   \u001b[39mreturn\u001b[39;00m \u001b[39mcls\u001b[39m\u001b[39m.\u001b[39m_variable_v1_call(\u001b[39m*\u001b[39margs, \u001b[39m*\u001b[39m\u001b[39m*\u001b[39mkwargs)\n\u001b[0;32m    <a href='file:///~/AppData/Local/Programs/Python/Python310/lib/site-packages/tensorflow/python/ops/variables.py?line=265'>266</a>\u001b[0m \u001b[39melif\u001b[39;00m \u001b[39mcls\u001b[39m \u001b[39mis\u001b[39;00m Variable:\n\u001b[1;32m--> <a href='file:///~/AppData/Local/Programs/Python/Python310/lib/site-packages/tensorflow/python/ops/variables.py?line=266'>267</a>\u001b[0m   \u001b[39mreturn\u001b[39;00m \u001b[39mcls\u001b[39m\u001b[39m.\u001b[39m_variable_v2_call(\u001b[39m*\u001b[39margs, \u001b[39m*\u001b[39m\u001b[39m*\u001b[39mkwargs)\n\u001b[0;32m    <a href='file:///~/AppData/Local/Programs/Python/Python310/lib/site-packages/tensorflow/python/ops/variables.py?line=267'>268</a>\u001b[0m \u001b[39melse\u001b[39;00m:\n\u001b[0;32m    <a href='file:///~/AppData/Local/Programs/Python/Python310/lib/site-packages/tensorflow/python/ops/variables.py?line=268'>269</a>\u001b[0m   \u001b[39mreturn\u001b[39;00m \u001b[39msuper\u001b[39m(VariableMetaclass, \u001b[39mcls\u001b[39m)\u001b[39m.\u001b[39m\u001b[39m__call__\u001b[39m(\u001b[39m*\u001b[39margs, \u001b[39m*\u001b[39m\u001b[39m*\u001b[39mkwargs)\n",
      "File \u001b[1;32m~\\AppData\\Local\\Programs\\Python\\Python310\\lib\\site-packages\\tensorflow\\python\\ops\\variables.py:248\u001b[0m, in \u001b[0;36mVariableMetaclass._variable_v2_call\u001b[1;34m(cls, initial_value, trainable, validate_shape, caching_device, name, variable_def, dtype, import_scope, constraint, synchronization, aggregation, shape)\u001b[0m\n\u001b[0;32m    <a href='file:///~/AppData/Local/Programs/Python/Python310/lib/site-packages/tensorflow/python/ops/variables.py?line=245'>246</a>\u001b[0m \u001b[39mif\u001b[39;00m aggregation \u001b[39mis\u001b[39;00m \u001b[39mNone\u001b[39;00m:\n\u001b[0;32m    <a href='file:///~/AppData/Local/Programs/Python/Python310/lib/site-packages/tensorflow/python/ops/variables.py?line=246'>247</a>\u001b[0m   aggregation \u001b[39m=\u001b[39m VariableAggregation\u001b[39m.\u001b[39mNONE\n\u001b[1;32m--> <a href='file:///~/AppData/Local/Programs/Python/Python310/lib/site-packages/tensorflow/python/ops/variables.py?line=247'>248</a>\u001b[0m \u001b[39mreturn\u001b[39;00m previous_getter(\n\u001b[0;32m    <a href='file:///~/AppData/Local/Programs/Python/Python310/lib/site-packages/tensorflow/python/ops/variables.py?line=248'>249</a>\u001b[0m     initial_value\u001b[39m=\u001b[39;49minitial_value,\n\u001b[0;32m    <a href='file:///~/AppData/Local/Programs/Python/Python310/lib/site-packages/tensorflow/python/ops/variables.py?line=249'>250</a>\u001b[0m     trainable\u001b[39m=\u001b[39;49mtrainable,\n\u001b[0;32m    <a href='file:///~/AppData/Local/Programs/Python/Python310/lib/site-packages/tensorflow/python/ops/variables.py?line=250'>251</a>\u001b[0m     validate_shape\u001b[39m=\u001b[39;49mvalidate_shape,\n\u001b[0;32m    <a href='file:///~/AppData/Local/Programs/Python/Python310/lib/site-packages/tensorflow/python/ops/variables.py?line=251'>252</a>\u001b[0m     caching_device\u001b[39m=\u001b[39;49mcaching_device,\n\u001b[0;32m    <a href='file:///~/AppData/Local/Programs/Python/Python310/lib/site-packages/tensorflow/python/ops/variables.py?line=252'>253</a>\u001b[0m     name\u001b[39m=\u001b[39;49mname,\n\u001b[0;32m    <a href='file:///~/AppData/Local/Programs/Python/Python310/lib/site-packages/tensorflow/python/ops/variables.py?line=253'>254</a>\u001b[0m     variable_def\u001b[39m=\u001b[39;49mvariable_def,\n\u001b[0;32m    <a href='file:///~/AppData/Local/Programs/Python/Python310/lib/site-packages/tensorflow/python/ops/variables.py?line=254'>255</a>\u001b[0m     dtype\u001b[39m=\u001b[39;49mdtype,\n\u001b[0;32m    <a href='file:///~/AppData/Local/Programs/Python/Python310/lib/site-packages/tensorflow/python/ops/variables.py?line=255'>256</a>\u001b[0m     import_scope\u001b[39m=\u001b[39;49mimport_scope,\n\u001b[0;32m    <a href='file:///~/AppData/Local/Programs/Python/Python310/lib/site-packages/tensorflow/python/ops/variables.py?line=256'>257</a>\u001b[0m     constraint\u001b[39m=\u001b[39;49mconstraint,\n\u001b[0;32m    <a href='file:///~/AppData/Local/Programs/Python/Python310/lib/site-packages/tensorflow/python/ops/variables.py?line=257'>258</a>\u001b[0m     synchronization\u001b[39m=\u001b[39;49msynchronization,\n\u001b[0;32m    <a href='file:///~/AppData/Local/Programs/Python/Python310/lib/site-packages/tensorflow/python/ops/variables.py?line=258'>259</a>\u001b[0m     aggregation\u001b[39m=\u001b[39;49maggregation,\n\u001b[0;32m    <a href='file:///~/AppData/Local/Programs/Python/Python310/lib/site-packages/tensorflow/python/ops/variables.py?line=259'>260</a>\u001b[0m     shape\u001b[39m=\u001b[39;49mshape)\n",
      "File \u001b[1;32m~\\AppData\\Local\\Programs\\Python\\Python310\\lib\\site-packages\\tensorflow\\python\\ops\\variables.py:241\u001b[0m, in \u001b[0;36mVariableMetaclass._variable_v2_call.<locals>.<lambda>\u001b[1;34m(**kws)\u001b[0m\n\u001b[0;32m    <a href='file:///~/AppData/Local/Programs/Python/Python310/lib/site-packages/tensorflow/python/ops/variables.py?line=226'>227</a>\u001b[0m \u001b[39mdef\u001b[39;00m \u001b[39m_variable_v2_call\u001b[39m(\u001b[39mcls\u001b[39m,\n\u001b[0;32m    <a href='file:///~/AppData/Local/Programs/Python/Python310/lib/site-packages/tensorflow/python/ops/variables.py?line=227'>228</a>\u001b[0m                       initial_value\u001b[39m=\u001b[39m\u001b[39mNone\u001b[39;00m,\n\u001b[0;32m    <a href='file:///~/AppData/Local/Programs/Python/Python310/lib/site-packages/tensorflow/python/ops/variables.py?line=228'>229</a>\u001b[0m                       trainable\u001b[39m=\u001b[39m\u001b[39mNone\u001b[39;00m,\n\u001b[1;32m   (...)\u001b[0m\n\u001b[0;32m    <a href='file:///~/AppData/Local/Programs/Python/Python310/lib/site-packages/tensorflow/python/ops/variables.py?line=237'>238</a>\u001b[0m                       aggregation\u001b[39m=\u001b[39mVariableAggregation\u001b[39m.\u001b[39mNONE,\n\u001b[0;32m    <a href='file:///~/AppData/Local/Programs/Python/Python310/lib/site-packages/tensorflow/python/ops/variables.py?line=238'>239</a>\u001b[0m                       shape\u001b[39m=\u001b[39m\u001b[39mNone\u001b[39;00m):\n\u001b[0;32m    <a href='file:///~/AppData/Local/Programs/Python/Python310/lib/site-packages/tensorflow/python/ops/variables.py?line=239'>240</a>\u001b[0m   \u001b[39m\"\"\"Call on Variable class. Useful to force the signature.\"\"\"\u001b[39;00m\n\u001b[1;32m--> <a href='file:///~/AppData/Local/Programs/Python/Python310/lib/site-packages/tensorflow/python/ops/variables.py?line=240'>241</a>\u001b[0m   previous_getter \u001b[39m=\u001b[39m \u001b[39mlambda\u001b[39;00m \u001b[39m*\u001b[39m\u001b[39m*\u001b[39mkws: default_variable_creator_v2(\u001b[39mNone\u001b[39;00m, \u001b[39m*\u001b[39m\u001b[39m*\u001b[39mkws)\n\u001b[0;32m    <a href='file:///~/AppData/Local/Programs/Python/Python310/lib/site-packages/tensorflow/python/ops/variables.py?line=241'>242</a>\u001b[0m   \u001b[39mfor\u001b[39;00m _, getter \u001b[39min\u001b[39;00m ops\u001b[39m.\u001b[39mget_default_graph()\u001b[39m.\u001b[39m_variable_creator_stack:  \u001b[39m# pylint: disable=protected-access\u001b[39;00m\n\u001b[0;32m    <a href='file:///~/AppData/Local/Programs/Python/Python310/lib/site-packages/tensorflow/python/ops/variables.py?line=242'>243</a>\u001b[0m     previous_getter \u001b[39m=\u001b[39m _make_getter(getter, previous_getter)\n",
      "File \u001b[1;32m~\\AppData\\Local\\Programs\\Python\\Python310\\lib\\site-packages\\tensorflow\\python\\ops\\variable_scope.py:2757\u001b[0m, in \u001b[0;36mdefault_variable_creator_v2\u001b[1;34m(next_creator, **kwargs)\u001b[0m\n\u001b[0;32m   <a href='file:///~/AppData/Local/Programs/Python/Python310/lib/site-packages/tensorflow/python/ops/variable_scope.py?line=2753'>2754</a>\u001b[0m aggregation \u001b[39m=\u001b[39m kwargs\u001b[39m.\u001b[39mget(\u001b[39m\"\u001b[39m\u001b[39maggregation\u001b[39m\u001b[39m\"\u001b[39m, \u001b[39mNone\u001b[39;00m)\n\u001b[0;32m   <a href='file:///~/AppData/Local/Programs/Python/Python310/lib/site-packages/tensorflow/python/ops/variable_scope.py?line=2754'>2755</a>\u001b[0m shape \u001b[39m=\u001b[39m kwargs\u001b[39m.\u001b[39mget(\u001b[39m\"\u001b[39m\u001b[39mshape\u001b[39m\u001b[39m\"\u001b[39m, \u001b[39mNone\u001b[39;00m)\n\u001b[1;32m-> <a href='file:///~/AppData/Local/Programs/Python/Python310/lib/site-packages/tensorflow/python/ops/variable_scope.py?line=2756'>2757</a>\u001b[0m \u001b[39mreturn\u001b[39;00m resource_variable_ops\u001b[39m.\u001b[39;49mResourceVariable(\n\u001b[0;32m   <a href='file:///~/AppData/Local/Programs/Python/Python310/lib/site-packages/tensorflow/python/ops/variable_scope.py?line=2757'>2758</a>\u001b[0m     initial_value\u001b[39m=\u001b[39;49minitial_value,\n\u001b[0;32m   <a href='file:///~/AppData/Local/Programs/Python/Python310/lib/site-packages/tensorflow/python/ops/variable_scope.py?line=2758'>2759</a>\u001b[0m     trainable\u001b[39m=\u001b[39;49mtrainable,\n\u001b[0;32m   <a href='file:///~/AppData/Local/Programs/Python/Python310/lib/site-packages/tensorflow/python/ops/variable_scope.py?line=2759'>2760</a>\u001b[0m     validate_shape\u001b[39m=\u001b[39;49mvalidate_shape,\n\u001b[0;32m   <a href='file:///~/AppData/Local/Programs/Python/Python310/lib/site-packages/tensorflow/python/ops/variable_scope.py?line=2760'>2761</a>\u001b[0m     caching_device\u001b[39m=\u001b[39;49mcaching_device,\n\u001b[0;32m   <a href='file:///~/AppData/Local/Programs/Python/Python310/lib/site-packages/tensorflow/python/ops/variable_scope.py?line=2761'>2762</a>\u001b[0m     name\u001b[39m=\u001b[39;49mname,\n\u001b[0;32m   <a href='file:///~/AppData/Local/Programs/Python/Python310/lib/site-packages/tensorflow/python/ops/variable_scope.py?line=2762'>2763</a>\u001b[0m     dtype\u001b[39m=\u001b[39;49mdtype,\n\u001b[0;32m   <a href='file:///~/AppData/Local/Programs/Python/Python310/lib/site-packages/tensorflow/python/ops/variable_scope.py?line=2763'>2764</a>\u001b[0m     constraint\u001b[39m=\u001b[39;49mconstraint,\n\u001b[0;32m   <a href='file:///~/AppData/Local/Programs/Python/Python310/lib/site-packages/tensorflow/python/ops/variable_scope.py?line=2764'>2765</a>\u001b[0m     variable_def\u001b[39m=\u001b[39;49mvariable_def,\n\u001b[0;32m   <a href='file:///~/AppData/Local/Programs/Python/Python310/lib/site-packages/tensorflow/python/ops/variable_scope.py?line=2765'>2766</a>\u001b[0m     import_scope\u001b[39m=\u001b[39;49mimport_scope,\n\u001b[0;32m   <a href='file:///~/AppData/Local/Programs/Python/Python310/lib/site-packages/tensorflow/python/ops/variable_scope.py?line=2766'>2767</a>\u001b[0m     distribute_strategy\u001b[39m=\u001b[39;49mdistribute_strategy,\n\u001b[0;32m   <a href='file:///~/AppData/Local/Programs/Python/Python310/lib/site-packages/tensorflow/python/ops/variable_scope.py?line=2767'>2768</a>\u001b[0m     synchronization\u001b[39m=\u001b[39;49msynchronization,\n\u001b[0;32m   <a href='file:///~/AppData/Local/Programs/Python/Python310/lib/site-packages/tensorflow/python/ops/variable_scope.py?line=2768'>2769</a>\u001b[0m     aggregation\u001b[39m=\u001b[39;49maggregation,\n\u001b[0;32m   <a href='file:///~/AppData/Local/Programs/Python/Python310/lib/site-packages/tensorflow/python/ops/variable_scope.py?line=2769'>2770</a>\u001b[0m     shape\u001b[39m=\u001b[39;49mshape)\n",
      "File \u001b[1;32m~\\AppData\\Local\\Programs\\Python\\Python310\\lib\\site-packages\\tensorflow\\python\\util\\traceback_utils.py:150\u001b[0m, in \u001b[0;36mfilter_traceback.<locals>.error_handler\u001b[1;34m(*args, **kwargs)\u001b[0m\n\u001b[0;32m    <a href='file:///~/AppData/Local/Programs/Python/Python310/lib/site-packages/tensorflow/python/util/traceback_utils.py?line=147'>148</a>\u001b[0m filtered_tb \u001b[39m=\u001b[39m \u001b[39mNone\u001b[39;00m\n\u001b[0;32m    <a href='file:///~/AppData/Local/Programs/Python/Python310/lib/site-packages/tensorflow/python/util/traceback_utils.py?line=148'>149</a>\u001b[0m \u001b[39mtry\u001b[39;00m:\n\u001b[1;32m--> <a href='file:///~/AppData/Local/Programs/Python/Python310/lib/site-packages/tensorflow/python/util/traceback_utils.py?line=149'>150</a>\u001b[0m   \u001b[39mreturn\u001b[39;00m fn(\u001b[39m*\u001b[39margs, \u001b[39m*\u001b[39m\u001b[39m*\u001b[39mkwargs)\n\u001b[0;32m    <a href='file:///~/AppData/Local/Programs/Python/Python310/lib/site-packages/tensorflow/python/util/traceback_utils.py?line=150'>151</a>\u001b[0m \u001b[39mexcept\u001b[39;00m \u001b[39mException\u001b[39;00m \u001b[39mas\u001b[39;00m e:\n\u001b[0;32m    <a href='file:///~/AppData/Local/Programs/Python/Python310/lib/site-packages/tensorflow/python/util/traceback_utils.py?line=151'>152</a>\u001b[0m   filtered_tb \u001b[39m=\u001b[39m _process_traceback_frames(e\u001b[39m.\u001b[39m__traceback__)\n",
      "File \u001b[1;32m~\\AppData\\Local\\Programs\\Python\\Python310\\lib\\site-packages\\tensorflow\\python\\ops\\variables.py:269\u001b[0m, in \u001b[0;36mVariableMetaclass.__call__\u001b[1;34m(cls, *args, **kwargs)\u001b[0m\n\u001b[0;32m    <a href='file:///~/AppData/Local/Programs/Python/Python310/lib/site-packages/tensorflow/python/ops/variables.py?line=266'>267</a>\u001b[0m   \u001b[39mreturn\u001b[39;00m \u001b[39mcls\u001b[39m\u001b[39m.\u001b[39m_variable_v2_call(\u001b[39m*\u001b[39margs, \u001b[39m*\u001b[39m\u001b[39m*\u001b[39mkwargs)\n\u001b[0;32m    <a href='file:///~/AppData/Local/Programs/Python/Python310/lib/site-packages/tensorflow/python/ops/variables.py?line=267'>268</a>\u001b[0m \u001b[39melse\u001b[39;00m:\n\u001b[1;32m--> <a href='file:///~/AppData/Local/Programs/Python/Python310/lib/site-packages/tensorflow/python/ops/variables.py?line=268'>269</a>\u001b[0m   \u001b[39mreturn\u001b[39;00m \u001b[39msuper\u001b[39m(VariableMetaclass, \u001b[39mcls\u001b[39m)\u001b[39m.\u001b[39m\u001b[39m__call__\u001b[39m(\u001b[39m*\u001b[39margs, \u001b[39m*\u001b[39m\u001b[39m*\u001b[39mkwargs)\n",
      "File \u001b[1;32m~\\AppData\\Local\\Programs\\Python\\Python310\\lib\\site-packages\\tensorflow\\python\\ops\\resource_variable_ops.py:1665\u001b[0m, in \u001b[0;36mResourceVariable.__init__\u001b[1;34m(self, initial_value, trainable, collections, validate_shape, caching_device, name, dtype, variable_def, import_scope, constraint, distribute_strategy, synchronization, aggregation, shape)\u001b[0m\n\u001b[0;32m   <a href='file:///~/AppData/Local/Programs/Python/Python310/lib/site-packages/tensorflow/python/ops/resource_variable_ops.py?line=1662'>1663</a>\u001b[0m   \u001b[39mself\u001b[39m\u001b[39m.\u001b[39m_init_from_proto(variable_def, import_scope\u001b[39m=\u001b[39mimport_scope)\n\u001b[0;32m   <a href='file:///~/AppData/Local/Programs/Python/Python310/lib/site-packages/tensorflow/python/ops/resource_variable_ops.py?line=1663'>1664</a>\u001b[0m \u001b[39melse\u001b[39;00m:\n\u001b[1;32m-> <a href='file:///~/AppData/Local/Programs/Python/Python310/lib/site-packages/tensorflow/python/ops/resource_variable_ops.py?line=1664'>1665</a>\u001b[0m   \u001b[39mself\u001b[39;49m\u001b[39m.\u001b[39;49m_init_from_args(\n\u001b[0;32m   <a href='file:///~/AppData/Local/Programs/Python/Python310/lib/site-packages/tensorflow/python/ops/resource_variable_ops.py?line=1665'>1666</a>\u001b[0m       initial_value\u001b[39m=\u001b[39;49minitial_value,\n\u001b[0;32m   <a href='file:///~/AppData/Local/Programs/Python/Python310/lib/site-packages/tensorflow/python/ops/resource_variable_ops.py?line=1666'>1667</a>\u001b[0m       trainable\u001b[39m=\u001b[39;49mtrainable,\n\u001b[0;32m   <a href='file:///~/AppData/Local/Programs/Python/Python310/lib/site-packages/tensorflow/python/ops/resource_variable_ops.py?line=1667'>1668</a>\u001b[0m       collections\u001b[39m=\u001b[39;49mcollections,\n\u001b[0;32m   <a href='file:///~/AppData/Local/Programs/Python/Python310/lib/site-packages/tensorflow/python/ops/resource_variable_ops.py?line=1668'>1669</a>\u001b[0m       caching_device\u001b[39m=\u001b[39;49mcaching_device,\n\u001b[0;32m   <a href='file:///~/AppData/Local/Programs/Python/Python310/lib/site-packages/tensorflow/python/ops/resource_variable_ops.py?line=1669'>1670</a>\u001b[0m       name\u001b[39m=\u001b[39;49mname,\n\u001b[0;32m   <a href='file:///~/AppData/Local/Programs/Python/Python310/lib/site-packages/tensorflow/python/ops/resource_variable_ops.py?line=1670'>1671</a>\u001b[0m       dtype\u001b[39m=\u001b[39;49mdtype,\n\u001b[0;32m   <a href='file:///~/AppData/Local/Programs/Python/Python310/lib/site-packages/tensorflow/python/ops/resource_variable_ops.py?line=1671'>1672</a>\u001b[0m       constraint\u001b[39m=\u001b[39;49mconstraint,\n\u001b[0;32m   <a href='file:///~/AppData/Local/Programs/Python/Python310/lib/site-packages/tensorflow/python/ops/resource_variable_ops.py?line=1672'>1673</a>\u001b[0m       synchronization\u001b[39m=\u001b[39;49msynchronization,\n\u001b[0;32m   <a href='file:///~/AppData/Local/Programs/Python/Python310/lib/site-packages/tensorflow/python/ops/resource_variable_ops.py?line=1673'>1674</a>\u001b[0m       aggregation\u001b[39m=\u001b[39;49maggregation,\n\u001b[0;32m   <a href='file:///~/AppData/Local/Programs/Python/Python310/lib/site-packages/tensorflow/python/ops/resource_variable_ops.py?line=1674'>1675</a>\u001b[0m       shape\u001b[39m=\u001b[39;49mshape,\n\u001b[0;32m   <a href='file:///~/AppData/Local/Programs/Python/Python310/lib/site-packages/tensorflow/python/ops/resource_variable_ops.py?line=1675'>1676</a>\u001b[0m       distribute_strategy\u001b[39m=\u001b[39;49mdistribute_strategy)\n",
      "File \u001b[1;32m~\\AppData\\Local\\Programs\\Python\\Python310\\lib\\site-packages\\tensorflow\\python\\ops\\resource_variable_ops.py:1816\u001b[0m, in \u001b[0;36mResourceVariable._init_from_args\u001b[1;34m(self, initial_value, trainable, collections, caching_device, name, dtype, constraint, synchronization, aggregation, distribute_strategy, shape)\u001b[0m\n\u001b[0;32m   <a href='file:///~/AppData/Local/Programs/Python/Python310/lib/site-packages/tensorflow/python/ops/resource_variable_ops.py?line=1813'>1814</a>\u001b[0m     \u001b[39mself\u001b[39m\u001b[39m.\u001b[39m_update_uid \u001b[39m=\u001b[39m initial_value\u001b[39m.\u001b[39mcheckpoint_position\u001b[39m.\u001b[39mrestore_uid\n\u001b[0;32m   <a href='file:///~/AppData/Local/Programs/Python/Python310/lib/site-packages/tensorflow/python/ops/resource_variable_ops.py?line=1814'>1815</a>\u001b[0m     initial_value \u001b[39m=\u001b[39m initial_value\u001b[39m.\u001b[39mwrapped_value\n\u001b[1;32m-> <a href='file:///~/AppData/Local/Programs/Python/Python310/lib/site-packages/tensorflow/python/ops/resource_variable_ops.py?line=1815'>1816</a>\u001b[0m   initial_value \u001b[39m=\u001b[39m ops\u001b[39m.\u001b[39;49mconvert_to_tensor(initial_value,\n\u001b[0;32m   <a href='file:///~/AppData/Local/Programs/Python/Python310/lib/site-packages/tensorflow/python/ops/resource_variable_ops.py?line=1816'>1817</a>\u001b[0m                                         name\u001b[39m=\u001b[39;49m\u001b[39m\"\u001b[39;49m\u001b[39minitial_value\u001b[39;49m\u001b[39m\"\u001b[39;49m,\n\u001b[0;32m   <a href='file:///~/AppData/Local/Programs/Python/Python310/lib/site-packages/tensorflow/python/ops/resource_variable_ops.py?line=1817'>1818</a>\u001b[0m                                         dtype\u001b[39m=\u001b[39;49mdtype)\n\u001b[0;32m   <a href='file:///~/AppData/Local/Programs/Python/Python310/lib/site-packages/tensorflow/python/ops/resource_variable_ops.py?line=1818'>1819</a>\u001b[0m \u001b[39mif\u001b[39;00m shape \u001b[39mis\u001b[39;00m \u001b[39mnot\u001b[39;00m \u001b[39mNone\u001b[39;00m:\n\u001b[0;32m   <a href='file:///~/AppData/Local/Programs/Python/Python310/lib/site-packages/tensorflow/python/ops/resource_variable_ops.py?line=1819'>1820</a>\u001b[0m   \u001b[39mif\u001b[39;00m \u001b[39mnot\u001b[39;00m initial_value\u001b[39m.\u001b[39mshape\u001b[39m.\u001b[39mis_compatible_with(shape):\n",
      "File \u001b[1;32m~\\AppData\\Local\\Programs\\Python\\Python310\\lib\\site-packages\\tensorflow\\python\\profiler\\trace.py:183\u001b[0m, in \u001b[0;36mtrace_wrapper.<locals>.inner_wrapper.<locals>.wrapped\u001b[1;34m(*args, **kwargs)\u001b[0m\n\u001b[0;32m    <a href='file:///~/AppData/Local/Programs/Python/Python310/lib/site-packages/tensorflow/python/profiler/trace.py?line=180'>181</a>\u001b[0m   \u001b[39mwith\u001b[39;00m Trace(trace_name, \u001b[39m*\u001b[39m\u001b[39m*\u001b[39mtrace_kwargs):\n\u001b[0;32m    <a href='file:///~/AppData/Local/Programs/Python/Python310/lib/site-packages/tensorflow/python/profiler/trace.py?line=181'>182</a>\u001b[0m     \u001b[39mreturn\u001b[39;00m func(\u001b[39m*\u001b[39margs, \u001b[39m*\u001b[39m\u001b[39m*\u001b[39mkwargs)\n\u001b[1;32m--> <a href='file:///~/AppData/Local/Programs/Python/Python310/lib/site-packages/tensorflow/python/profiler/trace.py?line=182'>183</a>\u001b[0m \u001b[39mreturn\u001b[39;00m func(\u001b[39m*\u001b[39margs, \u001b[39m*\u001b[39m\u001b[39m*\u001b[39mkwargs)\n",
      "File \u001b[1;32m~\\AppData\\Local\\Programs\\Python\\Python310\\lib\\site-packages\\tensorflow\\python\\framework\\ops.py:1695\u001b[0m, in \u001b[0;36mconvert_to_tensor\u001b[1;34m(value, dtype, name, as_ref, preferred_dtype, dtype_hint, ctx, accepted_result_types)\u001b[0m\n\u001b[0;32m   <a href='file:///~/AppData/Local/Programs/Python/Python310/lib/site-packages/tensorflow/python/framework/ops.py?line=1689'>1690</a>\u001b[0m       \u001b[39mraise\u001b[39;00m \u001b[39mTypeError\u001b[39;00m(\u001b[39m\"\u001b[39m\u001b[39mconvert_to_tensor did not convert to \u001b[39m\u001b[39m\"\u001b[39m\n\u001b[0;32m   <a href='file:///~/AppData/Local/Programs/Python/Python310/lib/site-packages/tensorflow/python/framework/ops.py?line=1690'>1691</a>\u001b[0m                       \u001b[39m\"\u001b[39m\u001b[39mthe preferred dtype: \u001b[39m\u001b[39m%s\u001b[39;00m\u001b[39m vs \u001b[39m\u001b[39m%s\u001b[39;00m\u001b[39m \u001b[39m\u001b[39m\"\u001b[39m \u001b[39m%\u001b[39m\n\u001b[0;32m   <a href='file:///~/AppData/Local/Programs/Python/Python310/lib/site-packages/tensorflow/python/framework/ops.py?line=1691'>1692</a>\u001b[0m                       (ret\u001b[39m.\u001b[39mdtype\u001b[39m.\u001b[39mbase_dtype, preferred_dtype\u001b[39m.\u001b[39mbase_dtype))\n\u001b[0;32m   <a href='file:///~/AppData/Local/Programs/Python/Python310/lib/site-packages/tensorflow/python/framework/ops.py?line=1693'>1694</a>\u001b[0m \u001b[39mif\u001b[39;00m ret \u001b[39mis\u001b[39;00m \u001b[39mNone\u001b[39;00m:\n\u001b[1;32m-> <a href='file:///~/AppData/Local/Programs/Python/Python310/lib/site-packages/tensorflow/python/framework/ops.py?line=1694'>1695</a>\u001b[0m   ret \u001b[39m=\u001b[39m conversion_func(value, dtype\u001b[39m=\u001b[39;49mdtype, name\u001b[39m=\u001b[39;49mname, as_ref\u001b[39m=\u001b[39;49mas_ref)\n\u001b[0;32m   <a href='file:///~/AppData/Local/Programs/Python/Python310/lib/site-packages/tensorflow/python/framework/ops.py?line=1696'>1697</a>\u001b[0m \u001b[39mif\u001b[39;00m ret \u001b[39mis\u001b[39;00m \u001b[39mNotImplemented\u001b[39m:\n\u001b[0;32m   <a href='file:///~/AppData/Local/Programs/Python/Python310/lib/site-packages/tensorflow/python/framework/ops.py?line=1697'>1698</a>\u001b[0m   \u001b[39mcontinue\u001b[39;00m\n",
      "File \u001b[1;32m~\\AppData\\Local\\Programs\\Python\\Python310\\lib\\site-packages\\tensorflow\\python\\framework\\tensor_conversion_registry.py:48\u001b[0m, in \u001b[0;36m_default_conversion_function\u001b[1;34m(***failed resolving arguments***)\u001b[0m\n\u001b[0;32m     <a href='file:///~/AppData/Local/Programs/Python/Python310/lib/site-packages/tensorflow/python/framework/tensor_conversion_registry.py?line=45'>46</a>\u001b[0m \u001b[39mdef\u001b[39;00m \u001b[39m_default_conversion_function\u001b[39m(value, dtype, name, as_ref):\n\u001b[0;32m     <a href='file:///~/AppData/Local/Programs/Python/Python310/lib/site-packages/tensorflow/python/framework/tensor_conversion_registry.py?line=46'>47</a>\u001b[0m   \u001b[39mdel\u001b[39;00m as_ref  \u001b[39m# Unused.\u001b[39;00m\n\u001b[1;32m---> <a href='file:///~/AppData/Local/Programs/Python/Python310/lib/site-packages/tensorflow/python/framework/tensor_conversion_registry.py?line=47'>48</a>\u001b[0m   \u001b[39mreturn\u001b[39;00m constant_op\u001b[39m.\u001b[39;49mconstant(value, dtype, name\u001b[39m=\u001b[39;49mname)\n",
      "File \u001b[1;32m~\\AppData\\Local\\Programs\\Python\\Python310\\lib\\site-packages\\tensorflow\\python\\framework\\constant_op.py:267\u001b[0m, in \u001b[0;36mconstant\u001b[1;34m(value, dtype, shape, name)\u001b[0m\n\u001b[0;32m    <a href='file:///~/AppData/Local/Programs/Python/Python310/lib/site-packages/tensorflow/python/framework/constant_op.py?line=169'>170</a>\u001b[0m \u001b[39m@tf_export\u001b[39m(\u001b[39m\"\u001b[39m\u001b[39mconstant\u001b[39m\u001b[39m\"\u001b[39m, v1\u001b[39m=\u001b[39m[])\n\u001b[0;32m    <a href='file:///~/AppData/Local/Programs/Python/Python310/lib/site-packages/tensorflow/python/framework/constant_op.py?line=170'>171</a>\u001b[0m \u001b[39mdef\u001b[39;00m \u001b[39mconstant\u001b[39m(value, dtype\u001b[39m=\u001b[39m\u001b[39mNone\u001b[39;00m, shape\u001b[39m=\u001b[39m\u001b[39mNone\u001b[39;00m, name\u001b[39m=\u001b[39m\u001b[39m\"\u001b[39m\u001b[39mConst\u001b[39m\u001b[39m\"\u001b[39m):\n\u001b[0;32m    <a href='file:///~/AppData/Local/Programs/Python/Python310/lib/site-packages/tensorflow/python/framework/constant_op.py?line=171'>172</a>\u001b[0m   \u001b[39m\"\"\"Creates a constant tensor from a tensor-like object.\u001b[39;00m\n\u001b[0;32m    <a href='file:///~/AppData/Local/Programs/Python/Python310/lib/site-packages/tensorflow/python/framework/constant_op.py?line=172'>173</a>\u001b[0m \n\u001b[0;32m    <a href='file:///~/AppData/Local/Programs/Python/Python310/lib/site-packages/tensorflow/python/framework/constant_op.py?line=173'>174</a>\u001b[0m \u001b[39m  Note: All eager `tf.Tensor` values are immutable (in contrast to\u001b[39;00m\n\u001b[1;32m   (...)\u001b[0m\n\u001b[0;32m    <a href='file:///~/AppData/Local/Programs/Python/Python310/lib/site-packages/tensorflow/python/framework/constant_op.py?line=264'>265</a>\u001b[0m \u001b[39m    ValueError: if called on a symbolic tensor.\u001b[39;00m\n\u001b[0;32m    <a href='file:///~/AppData/Local/Programs/Python/Python310/lib/site-packages/tensorflow/python/framework/constant_op.py?line=265'>266</a>\u001b[0m \u001b[39m  \"\"\"\u001b[39;00m\n\u001b[1;32m--> <a href='file:///~/AppData/Local/Programs/Python/Python310/lib/site-packages/tensorflow/python/framework/constant_op.py?line=266'>267</a>\u001b[0m   \u001b[39mreturn\u001b[39;00m _constant_impl(value, dtype, shape, name, verify_shape\u001b[39m=\u001b[39;49m\u001b[39mFalse\u001b[39;49;00m,\n\u001b[0;32m    <a href='file:///~/AppData/Local/Programs/Python/Python310/lib/site-packages/tensorflow/python/framework/constant_op.py?line=267'>268</a>\u001b[0m                         allow_broadcast\u001b[39m=\u001b[39;49m\u001b[39mTrue\u001b[39;49;00m)\n",
      "File \u001b[1;32m~\\AppData\\Local\\Programs\\Python\\Python310\\lib\\site-packages\\tensorflow\\python\\framework\\constant_op.py:279\u001b[0m, in \u001b[0;36m_constant_impl\u001b[1;34m(value, dtype, shape, name, verify_shape, allow_broadcast)\u001b[0m\n\u001b[0;32m    <a href='file:///~/AppData/Local/Programs/Python/Python310/lib/site-packages/tensorflow/python/framework/constant_op.py?line=276'>277</a>\u001b[0m     \u001b[39mwith\u001b[39;00m trace\u001b[39m.\u001b[39mTrace(\u001b[39m\"\u001b[39m\u001b[39mtf.constant\u001b[39m\u001b[39m\"\u001b[39m):\n\u001b[0;32m    <a href='file:///~/AppData/Local/Programs/Python/Python310/lib/site-packages/tensorflow/python/framework/constant_op.py?line=277'>278</a>\u001b[0m       \u001b[39mreturn\u001b[39;00m _constant_eager_impl(ctx, value, dtype, shape, verify_shape)\n\u001b[1;32m--> <a href='file:///~/AppData/Local/Programs/Python/Python310/lib/site-packages/tensorflow/python/framework/constant_op.py?line=278'>279</a>\u001b[0m   \u001b[39mreturn\u001b[39;00m _constant_eager_impl(ctx, value, dtype, shape, verify_shape)\n\u001b[0;32m    <a href='file:///~/AppData/Local/Programs/Python/Python310/lib/site-packages/tensorflow/python/framework/constant_op.py?line=280'>281</a>\u001b[0m g \u001b[39m=\u001b[39m ops\u001b[39m.\u001b[39mget_default_graph()\n\u001b[0;32m    <a href='file:///~/AppData/Local/Programs/Python/Python310/lib/site-packages/tensorflow/python/framework/constant_op.py?line=281'>282</a>\u001b[0m tensor_value \u001b[39m=\u001b[39m attr_value_pb2\u001b[39m.\u001b[39mAttrValue()\n",
      "File \u001b[1;32m~\\AppData\\Local\\Programs\\Python\\Python310\\lib\\site-packages\\tensorflow\\python\\framework\\constant_op.py:304\u001b[0m, in \u001b[0;36m_constant_eager_impl\u001b[1;34m(ctx, value, dtype, shape, verify_shape)\u001b[0m\n\u001b[0;32m    <a href='file:///~/AppData/Local/Programs/Python/Python310/lib/site-packages/tensorflow/python/framework/constant_op.py?line=301'>302</a>\u001b[0m \u001b[39mdef\u001b[39;00m \u001b[39m_constant_eager_impl\u001b[39m(ctx, value, dtype, shape, verify_shape):\n\u001b[0;32m    <a href='file:///~/AppData/Local/Programs/Python/Python310/lib/site-packages/tensorflow/python/framework/constant_op.py?line=302'>303</a>\u001b[0m   \u001b[39m\"\"\"Creates a constant on the current device.\"\"\"\u001b[39;00m\n\u001b[1;32m--> <a href='file:///~/AppData/Local/Programs/Python/Python310/lib/site-packages/tensorflow/python/framework/constant_op.py?line=303'>304</a>\u001b[0m   t \u001b[39m=\u001b[39m convert_to_eager_tensor(value, ctx, dtype)\n\u001b[0;32m    <a href='file:///~/AppData/Local/Programs/Python/Python310/lib/site-packages/tensorflow/python/framework/constant_op.py?line=304'>305</a>\u001b[0m   \u001b[39mif\u001b[39;00m shape \u001b[39mis\u001b[39;00m \u001b[39mNone\u001b[39;00m:\n\u001b[0;32m    <a href='file:///~/AppData/Local/Programs/Python/Python310/lib/site-packages/tensorflow/python/framework/constant_op.py?line=305'>306</a>\u001b[0m     \u001b[39mreturn\u001b[39;00m t\n",
      "File \u001b[1;32m~\\AppData\\Local\\Programs\\Python\\Python310\\lib\\site-packages\\tensorflow\\python\\framework\\constant_op.py:101\u001b[0m, in \u001b[0;36mconvert_to_eager_tensor\u001b[1;34m(value, ctx, dtype)\u001b[0m\n\u001b[0;32m     <a href='file:///~/AppData/Local/Programs/Python/Python310/lib/site-packages/tensorflow/python/framework/constant_op.py?line=98'>99</a>\u001b[0m   \u001b[39mexcept\u001b[39;00m \u001b[39mAttributeError\u001b[39;00m:\n\u001b[0;32m    <a href='file:///~/AppData/Local/Programs/Python/Python310/lib/site-packages/tensorflow/python/framework/constant_op.py?line=99'>100</a>\u001b[0m     dtype \u001b[39m=\u001b[39m dtypes\u001b[39m.\u001b[39mas_dtype(dtype)\u001b[39m.\u001b[39mas_datatype_enum\n\u001b[1;32m--> <a href='file:///~/AppData/Local/Programs/Python/Python310/lib/site-packages/tensorflow/python/framework/constant_op.py?line=100'>101</a>\u001b[0m ctx\u001b[39m.\u001b[39;49mensure_initialized()\n\u001b[0;32m    <a href='file:///~/AppData/Local/Programs/Python/Python310/lib/site-packages/tensorflow/python/framework/constant_op.py?line=101'>102</a>\u001b[0m \u001b[39mreturn\u001b[39;00m ops\u001b[39m.\u001b[39mEagerTensor(value, ctx\u001b[39m.\u001b[39mdevice_name, dtype)\n",
      "File \u001b[1;32m~\\AppData\\Local\\Programs\\Python\\Python310\\lib\\site-packages\\tensorflow\\python\\eager\\context.py:556\u001b[0m, in \u001b[0;36mContext.ensure_initialized\u001b[1;34m(self)\u001b[0m\n\u001b[0;32m    <a href='file:///~/AppData/Local/Programs/Python/Python310/lib/site-packages/tensorflow/python/eager/context.py?line=553'>554</a>\u001b[0m opts \u001b[39m=\u001b[39m pywrap_tfe\u001b[39m.\u001b[39mTFE_NewContextOptions()\n\u001b[0;32m    <a href='file:///~/AppData/Local/Programs/Python/Python310/lib/site-packages/tensorflow/python/eager/context.py?line=554'>555</a>\u001b[0m \u001b[39mtry\u001b[39;00m:\n\u001b[1;32m--> <a href='file:///~/AppData/Local/Programs/Python/Python310/lib/site-packages/tensorflow/python/eager/context.py?line=555'>556</a>\u001b[0m   config_str \u001b[39m=\u001b[39m \u001b[39mself\u001b[39;49m\u001b[39m.\u001b[39;49mconfig\u001b[39m.\u001b[39mSerializeToString()\n\u001b[0;32m    <a href='file:///~/AppData/Local/Programs/Python/Python310/lib/site-packages/tensorflow/python/eager/context.py?line=556'>557</a>\u001b[0m   pywrap_tfe\u001b[39m.\u001b[39mTFE_ContextOptionsSetConfig(opts, config_str)\n\u001b[0;32m    <a href='file:///~/AppData/Local/Programs/Python/Python310/lib/site-packages/tensorflow/python/eager/context.py?line=557'>558</a>\u001b[0m   \u001b[39mif\u001b[39;00m \u001b[39mself\u001b[39m\u001b[39m.\u001b[39m_device_policy \u001b[39mis\u001b[39;00m \u001b[39mnot\u001b[39;00m \u001b[39mNone\u001b[39;00m:\n",
      "File \u001b[1;32m~\\AppData\\Local\\Programs\\Python\\Python310\\lib\\site-packages\\tensorflow\\python\\eager\\context.py:1042\u001b[0m, in \u001b[0;36mContext.config\u001b[1;34m(self)\u001b[0m\n\u001b[0;32m   <a href='file:///~/AppData/Local/Programs/Python/Python310/lib/site-packages/tensorflow/python/eager/context.py?line=1039'>1040</a>\u001b[0m \u001b[39m\"\"\"Return the ConfigProto with all runtime deltas applied.\"\"\"\u001b[39;00m\n\u001b[0;32m   <a href='file:///~/AppData/Local/Programs/Python/Python310/lib/site-packages/tensorflow/python/eager/context.py?line=1040'>1041</a>\u001b[0m \u001b[39m# Ensure physical devices have been discovered and config has been imported\u001b[39;00m\n\u001b[1;32m-> <a href='file:///~/AppData/Local/Programs/Python/Python310/lib/site-packages/tensorflow/python/eager/context.py?line=1041'>1042</a>\u001b[0m \u001b[39mself\u001b[39;49m\u001b[39m.\u001b[39;49m_initialize_physical_devices()\n\u001b[0;32m   <a href='file:///~/AppData/Local/Programs/Python/Python310/lib/site-packages/tensorflow/python/eager/context.py?line=1043'>1044</a>\u001b[0m config \u001b[39m=\u001b[39m config_pb2\u001b[39m.\u001b[39mConfigProto()\n\u001b[0;32m   <a href='file:///~/AppData/Local/Programs/Python/Python310/lib/site-packages/tensorflow/python/eager/context.py?line=1044'>1045</a>\u001b[0m \u001b[39mif\u001b[39;00m \u001b[39mself\u001b[39m\u001b[39m.\u001b[39m_config \u001b[39mis\u001b[39;00m \u001b[39mnot\u001b[39;00m \u001b[39mNone\u001b[39;00m:\n",
      "File \u001b[1;32m~\\AppData\\Local\\Programs\\Python\\Python310\\lib\\site-packages\\tensorflow\\python\\eager\\context.py:1380\u001b[0m, in \u001b[0;36mContext._initialize_physical_devices\u001b[1;34m(self, reinitialize)\u001b[0m\n\u001b[0;32m   <a href='file:///~/AppData/Local/Programs/Python/Python310/lib/site-packages/tensorflow/python/eager/context.py?line=1376'>1377</a>\u001b[0m   \u001b[39mreturn\u001b[39;00m\n\u001b[0;32m   <a href='file:///~/AppData/Local/Programs/Python/Python310/lib/site-packages/tensorflow/python/eager/context.py?line=1378'>1379</a>\u001b[0m devs \u001b[39m=\u001b[39m pywrap_tfe\u001b[39m.\u001b[39mTF_ListPhysicalDevices()\n\u001b[1;32m-> <a href='file:///~/AppData/Local/Programs/Python/Python310/lib/site-packages/tensorflow/python/eager/context.py?line=1379'>1380</a>\u001b[0m \u001b[39mself\u001b[39m\u001b[39m.\u001b[39m_physical_devices \u001b[39m=\u001b[39m [\n\u001b[0;32m   <a href='file:///~/AppData/Local/Programs/Python/Python310/lib/site-packages/tensorflow/python/eager/context.py?line=1380'>1381</a>\u001b[0m     PhysicalDevice(name\u001b[39m=\u001b[39md\u001b[39m.\u001b[39mdecode(), device_type\u001b[39m=\u001b[39md\u001b[39m.\u001b[39mdecode()\u001b[39m.\u001b[39msplit(\u001b[39m\"\u001b[39m\u001b[39m:\u001b[39m\u001b[39m\"\u001b[39m)[\u001b[39m1\u001b[39m])\n\u001b[0;32m   <a href='file:///~/AppData/Local/Programs/Python/Python310/lib/site-packages/tensorflow/python/eager/context.py?line=1381'>1382</a>\u001b[0m     \u001b[39mfor\u001b[39;00m d \u001b[39min\u001b[39;00m devs\n\u001b[0;32m   <a href='file:///~/AppData/Local/Programs/Python/Python310/lib/site-packages/tensorflow/python/eager/context.py?line=1382'>1383</a>\u001b[0m ]\n\u001b[0;32m   <a href='file:///~/AppData/Local/Programs/Python/Python310/lib/site-packages/tensorflow/python/eager/context.py?line=1383'>1384</a>\u001b[0m \u001b[39mself\u001b[39m\u001b[39m.\u001b[39m_physical_device_to_index \u001b[39m=\u001b[39m {\n\u001b[0;32m   <a href='file:///~/AppData/Local/Programs/Python/Python310/lib/site-packages/tensorflow/python/eager/context.py?line=1384'>1385</a>\u001b[0m     p: i \u001b[39mfor\u001b[39;00m i, p \u001b[39min\u001b[39;00m \u001b[39menumerate\u001b[39m(\u001b[39mself\u001b[39m\u001b[39m.\u001b[39m_physical_devices)\n\u001b[0;32m   <a href='file:///~/AppData/Local/Programs/Python/Python310/lib/site-packages/tensorflow/python/eager/context.py?line=1385'>1386</a>\u001b[0m }\n\u001b[0;32m   <a href='file:///~/AppData/Local/Programs/Python/Python310/lib/site-packages/tensorflow/python/eager/context.py?line=1387'>1388</a>\u001b[0m \u001b[39mself\u001b[39m\u001b[39m.\u001b[39m_visible_device_list \u001b[39m=\u001b[39m \u001b[39mlist\u001b[39m(\u001b[39mself\u001b[39m\u001b[39m.\u001b[39m_physical_devices)\n",
      "File \u001b[1;32m~\\AppData\\Local\\Programs\\Python\\Python310\\lib\\site-packages\\tensorflow\\python\\eager\\context.py:1380\u001b[0m, in \u001b[0;36m<listcomp>\u001b[1;34m(.0)\u001b[0m\n\u001b[0;32m   <a href='file:///~/AppData/Local/Programs/Python/Python310/lib/site-packages/tensorflow/python/eager/context.py?line=1376'>1377</a>\u001b[0m   \u001b[39mreturn\u001b[39;00m\n\u001b[0;32m   <a href='file:///~/AppData/Local/Programs/Python/Python310/lib/site-packages/tensorflow/python/eager/context.py?line=1378'>1379</a>\u001b[0m devs \u001b[39m=\u001b[39m pywrap_tfe\u001b[39m.\u001b[39mTF_ListPhysicalDevices()\n\u001b[1;32m-> <a href='file:///~/AppData/Local/Programs/Python/Python310/lib/site-packages/tensorflow/python/eager/context.py?line=1379'>1380</a>\u001b[0m \u001b[39mself\u001b[39m\u001b[39m.\u001b[39m_physical_devices \u001b[39m=\u001b[39m [\n\u001b[0;32m   <a href='file:///~/AppData/Local/Programs/Python/Python310/lib/site-packages/tensorflow/python/eager/context.py?line=1380'>1381</a>\u001b[0m     PhysicalDevice(name\u001b[39m=\u001b[39md\u001b[39m.\u001b[39mdecode(), device_type\u001b[39m=\u001b[39md\u001b[39m.\u001b[39mdecode()\u001b[39m.\u001b[39msplit(\u001b[39m\"\u001b[39m\u001b[39m:\u001b[39m\u001b[39m\"\u001b[39m)[\u001b[39m1\u001b[39m])\n\u001b[0;32m   <a href='file:///~/AppData/Local/Programs/Python/Python310/lib/site-packages/tensorflow/python/eager/context.py?line=1381'>1382</a>\u001b[0m     \u001b[39mfor\u001b[39;00m d \u001b[39min\u001b[39;00m devs\n\u001b[0;32m   <a href='file:///~/AppData/Local/Programs/Python/Python310/lib/site-packages/tensorflow/python/eager/context.py?line=1382'>1383</a>\u001b[0m ]\n\u001b[0;32m   <a href='file:///~/AppData/Local/Programs/Python/Python310/lib/site-packages/tensorflow/python/eager/context.py?line=1383'>1384</a>\u001b[0m \u001b[39mself\u001b[39m\u001b[39m.\u001b[39m_physical_device_to_index \u001b[39m=\u001b[39m {\n\u001b[0;32m   <a href='file:///~/AppData/Local/Programs/Python/Python310/lib/site-packages/tensorflow/python/eager/context.py?line=1384'>1385</a>\u001b[0m     p: i \u001b[39mfor\u001b[39;00m i, p \u001b[39min\u001b[39;00m \u001b[39menumerate\u001b[39m(\u001b[39mself\u001b[39m\u001b[39m.\u001b[39m_physical_devices)\n\u001b[0;32m   <a href='file:///~/AppData/Local/Programs/Python/Python310/lib/site-packages/tensorflow/python/eager/context.py?line=1385'>1386</a>\u001b[0m }\n\u001b[0;32m   <a href='file:///~/AppData/Local/Programs/Python/Python310/lib/site-packages/tensorflow/python/eager/context.py?line=1387'>1388</a>\u001b[0m \u001b[39mself\u001b[39m\u001b[39m.\u001b[39m_visible_device_list \u001b[39m=\u001b[39m \u001b[39mlist\u001b[39m(\u001b[39mself\u001b[39m\u001b[39m.\u001b[39m_physical_devices)\n",
      "\u001b[1;31mKeyboardInterrupt\u001b[0m: "
     ]
    }
   ],
   "source": [
    "# M6-2 Model\n",
    "\n",
    "model = Sequential()\n",
    "\n",
    "model.add(Conv2D(64, (3, 3), input_shape = (28, 28, 1)))\n",
    "model.add(BatchNormalization())\n",
    "model.add(Activation(\"relu\"))\n",
    "\n",
    "model.add(MaxPooling2D(pool_size = (2, 2)))\n",
    "\n",
    "model.add(Conv2D(128, (3, 3)))\n",
    "model.add(BatchNormalization())\n",
    "model.add(Activation(\"relu\"))\n",
    "\n",
    "model.add(MaxPooling2D(pool_size = (2, 2)))\n",
    "\n",
    "model.add(Conv2D(512, (3, 3)))\n",
    "model.add(BatchNormalization())\n",
    "model.add(Activation(\"relu\"))\n",
    "\n",
    "model.add(MaxPooling2D(pool_size = (2, 2)))\n",
    "\n",
    "model.add(Flatten())\n",
    "model.add(Dense(1024, kernel_regularizer=regularizers.l1(0.01)))\n",
    "model.add(Activation(\"relu\"))\n",
    "\n",
    "model.add(Dense(10, kernel_regularizer=regularizers.l1(0.01)))\n",
    "model.add(Activation('softmax'))"
   ]
  },
  {
   "cell_type": "code",
   "execution_count": null,
   "id": "3094803c",
   "metadata": {},
   "outputs": [],
   "source": [
    "BATCH_SIZE = 16\n",
    "EPOCHS = 3\n",
    "VAL_SPLIT = 0.1"
   ]
  },
  {
   "cell_type": "code",
   "execution_count": null,
   "id": "d371e6a0",
   "metadata": {},
   "outputs": [
    {
     "name": "stdout",
     "output_type": "stream",
     "text": [
      "Epoch 1/3\n",
      "3375/3375 [==============================] - 73s 22ms/step - loss: 2.9956 - accuracy: 0.9003 - val_loss: 1.1895 - val_accuracy: 0.9393\n",
      "Epoch 2/3\n",
      "3375/3375 [==============================] - 71s 21ms/step - loss: 1.0933 - accuracy: 0.9586 - val_loss: 1.0697 - val_accuracy: 0.9510\n",
      "Epoch 3/3\n",
      "3375/3375 [==============================] - 71s 21ms/step - loss: 0.9855 - accuracy: 0.9694 - val_loss: 0.9571 - val_accuracy: 0.9660\n"
     ]
    },
    {
     "data": {
      "text/plain": [
       "<keras.callbacks.History at 0x261f97b0190>"
      ]
     },
     "execution_count": 39,
     "metadata": {},
     "output_type": "execute_result"
    }
   ],
   "source": [
    "\n",
    "# opt = SGD(learning_rate=0.01, momentum=0.9)\n",
    "\n",
    "model.compile(loss=\"categorical_crossentropy\",\n",
    "             optimizer='adam',\n",
    "             metrics=['accuracy'])\n",
    "\n",
    "model.fit(train_X, train_y, batch_size = BATCH_SIZE, epochs = EPOCHS, validation_split = VAL_SPLIT)"
   ]
  },
  {
   "cell_type": "code",
   "execution_count": null,
   "id": "7a5a4a84",
   "metadata": {},
   "outputs": [
    {
     "data": {
      "text/plain": [
       "0.9136999845504761"
      ]
     },
     "execution_count": 40,
     "metadata": {},
     "output_type": "execute_result"
    }
   ],
   "source": [
    "# Accuracy on test set\n",
    "model.evaluate(test_X, test_y, verbose = 0)[1]"
   ]
  },
  {
   "cell_type": "code",
   "execution_count": null,
   "id": "0b67e1f3",
   "metadata": {},
   "outputs": [
    {
     "name": "stdout",
     "output_type": "stream",
     "text": [
      "Epoch 1/3\n",
      "3375/3375 [==============================] - 75s 22ms/step - loss: 4.1552 - accuracy: 0.8155 - val_loss: 2.4434 - val_accuracy: 0.7995\n",
      "Epoch 2/3\n",
      "3375/3375 [==============================] - 68s 20ms/step - loss: 1.9719 - accuracy: 0.8899 - val_loss: 1.9097 - val_accuracy: 0.8798\n",
      "Epoch 3/3\n",
      "3375/3375 [==============================] - 68s 20ms/step - loss: 1.7677 - accuracy: 0.9088 - val_loss: 1.9682 - val_accuracy: 0.8190\n"
     ]
    },
    {
     "data": {
      "text/plain": [
       "0.7146999835968018"
      ]
     },
     "execution_count": 41,
     "metadata": {},
     "output_type": "execute_result"
    }
   ],
   "source": [
    "# regularizer in conv layers\n",
    "\n",
    "model = Sequential()\n",
    "\n",
    "model.add(Conv2D(64, (3, 3), input_shape = (28, 28, 1), kernel_regularizer=regularizers.l1(0.01)))\n",
    "model.add(BatchNormalization())\n",
    "model.add(Activation(\"relu\"))\n",
    "\n",
    "model.add(MaxPooling2D(pool_size = (2, 2)))\n",
    "\n",
    "model.add(Conv2D(128, (3, 3), kernel_regularizer=regularizers.l1(0.01)))\n",
    "model.add(BatchNormalization())\n",
    "model.add(Activation(\"relu\"))\n",
    "\n",
    "model.add(MaxPooling2D(pool_size = (2, 2)))\n",
    "\n",
    "model.add(Conv2D(512, (3, 3), kernel_regularizer=regularizers.l1(0.01)))\n",
    "model.add(BatchNormalization())\n",
    "model.add(Activation(\"relu\"))\n",
    "\n",
    "model.add(MaxPooling2D(pool_size = (2, 2)))\n",
    "\n",
    "model.add(Flatten())\n",
    "model.add(Dense(1024))\n",
    "model.add(Activation(\"relu\"))\n",
    "\n",
    "model.add(Dense(10))\n",
    "model.add(Activation('softmax'))\n",
    "\n",
    "BATCH_SIZE = 16\n",
    "EPOCHS = 3\n",
    "VAL_SPLIT = 0.1\n",
    "\n",
    "# opt = SGD(learning_rate=0.01, momentum=0.9)\n",
    "\n",
    "model.compile(loss=\"categorical_crossentropy\",\n",
    "             optimizer='adam',\n",
    "             metrics=['accuracy'])\n",
    "\n",
    "model.fit(train_X, train_y, batch_size = BATCH_SIZE, epochs = EPOCHS, validation_split = VAL_SPLIT)\n",
    "\n",
    "# Accuracy on test set\n",
    "model.evaluate(test_X, test_y, verbose = 0)[1]"
   ]
  },
  {
   "cell_type": "code",
   "execution_count": 15,
   "id": "0b67e1f3",
   "metadata": {},
   "outputs": [
    {
     "name": "stdout",
     "output_type": "stream",
     "text": [
      "Epoch 1/10\n",
      "3375/3375 [==============================] - 70s 20ms/step - loss: 0.2661 - accuracy: 0.9153 - val_loss: 0.1635 - val_accuracy: 0.9503\n",
      "Epoch 2/10\n",
      "3375/3375 [==============================] - 70s 21ms/step - loss: 0.1150 - accuracy: 0.9639 - val_loss: 0.2114 - val_accuracy: 0.9402\n",
      "Epoch 3/10\n",
      "3375/3375 [==============================] - 69s 21ms/step - loss: 0.0766 - accuracy: 0.9757 - val_loss: 0.1077 - val_accuracy: 0.9715\n",
      "Epoch 4/10\n",
      "3375/3375 [==============================] - 69s 20ms/step - loss: 0.0549 - accuracy: 0.9831 - val_loss: 0.1180 - val_accuracy: 0.9678\n",
      "Epoch 5/10\n",
      "3375/3375 [==============================] - 70s 21ms/step - loss: 0.0455 - accuracy: 0.9859 - val_loss: 0.0876 - val_accuracy: 0.9792\n",
      "Epoch 6/10\n",
      "3375/3375 [==============================] - 69s 20ms/step - loss: 0.0361 - accuracy: 0.9887 - val_loss: 0.0951 - val_accuracy: 0.9787\n",
      "Epoch 7/10\n",
      "3375/3375 [==============================] - 71s 21ms/step - loss: 0.0274 - accuracy: 0.9913 - val_loss: 0.1362 - val_accuracy: 0.9727\n",
      "Epoch 8/10\n",
      "3375/3375 [==============================] - 70s 21ms/step - loss: 0.0261 - accuracy: 0.9919 - val_loss: 0.0961 - val_accuracy: 0.9812\n",
      "Epoch 9/10\n",
      "3375/3375 [==============================] - 68s 20ms/step - loss: 0.0243 - accuracy: 0.9928 - val_loss: 0.0954 - val_accuracy: 0.9817\n",
      "Epoch 10/10\n",
      "3375/3375 [==============================] - 68s 20ms/step - loss: 0.0217 - accuracy: 0.9938 - val_loss: 0.0996 - val_accuracy: 0.9808\n"
     ]
    },
    {
     "data": {
      "text/plain": [
       "0.9531000256538391"
      ]
     },
     "execution_count": 15,
     "metadata": {},
     "output_type": "execute_result"
    }
   ],
   "source": [
    "# regularizer in conv layers\n",
    "\n",
    "model = Sequential()\n",
    "\n",
    "model.add(Conv2D(64, (3, 3), input_shape = (28, 28, 1)))\n",
    "model.add(BatchNormalization())\n",
    "model.add(Activation(\"relu\"))\n",
    "\n",
    "model.add(MaxPooling2D(pool_size = (2, 2)))\n",
    "\n",
    "model.add(Conv2D(128, (3, 3)))\n",
    "model.add(BatchNormalization())\n",
    "model.add(Activation(\"relu\"))\n",
    "\n",
    "model.add(MaxPooling2D(pool_size = (2, 2)))\n",
    "\n",
    "model.add(Conv2D(512, (3, 3)))\n",
    "model.add(BatchNormalization())\n",
    "model.add(Activation(\"relu\"))\n",
    "\n",
    "model.add(MaxPooling2D(pool_size = (2, 2)))\n",
    "\n",
    "model.add(Flatten())\n",
    "model.add(Dense(1024))\n",
    "model.add(Activation(\"relu\"))\n",
    "\n",
    "model.add(Dense(10))\n",
    "model.add(Activation('softmax'))\n",
    "\n",
    "BATCH_SIZE = 16\n",
    "EPOCHS = 10\n",
    "VAL_SPLIT = 0.1\n",
    "\n",
    "# opt = SGD(learning_rate=0.01, momentum=0.9)\n",
    "\n",
    "model.compile(loss=\"categorical_crossentropy\",\n",
    "             optimizer='adam',\n",
    "             metrics=['accuracy'])\n",
    "\n",
    "history = model.fit(train_X, train_y, batch_size = BATCH_SIZE, epochs = EPOCHS, validation_split = VAL_SPLIT)\n",
    "\n",
    "# Accuracy on test set\n",
    "model.evaluate(test_X, test_y, verbose = 0)[1]"
   ]
  },
  {
   "cell_type": "code",
   "execution_count": 18,
   "id": "65785c3b",
   "metadata": {},
   "outputs": [
    {
     "name": "stdout",
     "output_type": "stream",
     "text": [
      "{'loss': [0.26608556509017944, 0.11495079845190048, 0.07657629251480103, 0.05488773062825203, 0.04548388347029686, 0.03608114644885063, 0.02741876058280468, 0.026133619248867035, 0.024337681010365486, 0.021681630983948708], 'accuracy': [0.915314793586731, 0.9638518691062927, 0.9756666421890259, 0.983129620552063, 0.9858888983726501, 0.988703727722168, 0.9913148283958435, 0.9918518662452698, 0.9927592873573303, 0.993759274482727], 'val_loss': [0.1634930968284607, 0.2114003300666809, 0.10772743076086044, 0.11796694993972778, 0.08761326223611832, 0.09510474652051926, 0.13622955977916718, 0.09605921059846878, 0.09540624916553497, 0.0995713621377945], 'val_accuracy': [0.9503333568572998, 0.9401666522026062, 0.9714999794960022, 0.9678333401679993, 0.9791666865348816, 0.9786666631698608, 0.9726666808128357, 0.981166660785675, 0.9816666841506958, 0.9808333516120911]}\n"
     ]
    }
   ],
   "source": [
    "print(history.history)"
   ]
  },
  {
   "cell_type": "code",
   "execution_count": 20,
   "id": "6ee3de9d",
   "metadata": {},
   "outputs": [
    {
     "name": "stdout",
     "output_type": "stream",
     "text": [
      "Epoch 1/10\n",
      "3375/3375 [==============================] - 73s 21ms/step - loss: 0.5817 - accuracy: 0.9061 - val_loss: 0.5669 - val_accuracy: 0.9177\n",
      "Epoch 2/10\n",
      "3375/3375 [==============================] - 76s 22ms/step - loss: 0.4479 - accuracy: 0.9444 - val_loss: 0.4946 - val_accuracy: 0.9232\n",
      "Epoch 3/10\n",
      "3375/3375 [==============================] - 77s 23ms/step - loss: 0.3887 - accuracy: 0.9535 - val_loss: 0.4208 - val_accuracy: 0.9480\n",
      "Epoch 4/10\n",
      "3375/3375 [==============================] - 74s 22ms/step - loss: 0.3372 - accuracy: 0.9605 - val_loss: 0.3489 - val_accuracy: 0.9552\n",
      "Epoch 5/10\n",
      "3375/3375 [==============================] - 75s 22ms/step - loss: 0.3071 - accuracy: 0.9642 - val_loss: 0.3676 - val_accuracy: 0.9505\n",
      "Epoch 6/10\n",
      "3375/3375 [==============================] - 73s 22ms/step - loss: 0.2839 - accuracy: 0.9668 - val_loss: 0.3225 - val_accuracy: 0.9568\n",
      "Epoch 7/10\n",
      "3375/3375 [==============================] - 74s 22ms/step - loss: 0.2626 - accuracy: 0.9683 - val_loss: 0.2721 - val_accuracy: 0.9663\n",
      "Epoch 8/10\n",
      "3375/3375 [==============================] - 76s 23ms/step - loss: 0.2521 - accuracy: 0.9698 - val_loss: 0.2967 - val_accuracy: 0.9577\n",
      "Epoch 9/10\n",
      "3375/3375 [==============================] - 76s 23ms/step - loss: 0.2383 - accuracy: 0.9711 - val_loss: 0.2774 - val_accuracy: 0.9602\n",
      "Epoch 10/10\n",
      "3375/3375 [==============================] - 76s 23ms/step - loss: 0.2248 - accuracy: 0.9726 - val_loss: 0.2662 - val_accuracy: 0.9612\n"
     ]
    },
    {
     "data": {
      "text/plain": [
       "0.920799970626831"
      ]
     },
     "execution_count": 20,
     "metadata": {},
     "output_type": "execute_result"
    }
   ],
   "source": [
    "# regularizer in conv layers\n",
    "\n",
    "model = Sequential()\n",
    "\n",
    "model.add(Conv2D(64, (3, 3), input_shape = (28, 28, 1), kernel_regularizer=regularizers.l2(0.001)))\n",
    "model.add(BatchNormalization())\n",
    "model.add(Activation(\"relu\"))\n",
    "\n",
    "model.add(MaxPooling2D(pool_size = (2, 2)))\n",
    "\n",
    "model.add(Conv2D(128, (3, 3), kernel_regularizer=regularizers.l2(0.001)))\n",
    "model.add(BatchNormalization())\n",
    "model.add(Activation(\"relu\"))\n",
    "\n",
    "model.add(MaxPooling2D(pool_size = (2, 2)))\n",
    "\n",
    "model.add(Conv2D(512, (3, 3), kernel_regularizer=regularizers.l2(0.001)))\n",
    "model.add(BatchNormalization())\n",
    "model.add(Activation(\"relu\"))\n",
    "\n",
    "model.add(MaxPooling2D(pool_size = (2, 2)))\n",
    "\n",
    "model.add(Flatten())\n",
    "model.add(Dense(1024))\n",
    "model.add(Activation(\"relu\"))\n",
    "\n",
    "model.add(Dense(10))\n",
    "model.add(Activation('softmax'))\n",
    "\n",
    "BATCH_SIZE = 16\n",
    "EPOCHS = 10\n",
    "VAL_SPLIT = 0.1\n",
    "\n",
    "# opt = SGD(learning_rate=0.01, momentum=0.9)\n",
    "\n",
    "model.compile(loss=\"categorical_crossentropy\",\n",
    "             optimizer='adam',\n",
    "             metrics=['accuracy'])\n",
    "\n",
    "history2 = model.fit(train_X, train_y, batch_size = BATCH_SIZE, epochs = EPOCHS, validation_split = VAL_SPLIT)\n",
    "\n",
    "# Accuracy on test set\n",
    "model.evaluate(test_X, test_y, verbose = 0)[1]"
   ]
  },
  {
   "cell_type": "code",
   "execution_count": 26,
   "id": "6ee3de9d",
   "metadata": {},
   "outputs": [
    {
     "name": "stdout",
     "output_type": "stream",
     "text": [
      "Model: \"sequential_9\"\n",
      "_________________________________________________________________\n",
      " Layer (type)                Output Shape              Param #   \n",
      "=================================================================\n",
      " conv2d_28 (Conv2D)          (None, 26, 26, 64)        640       \n",
      "                                                                 \n",
      " batch_normalization_25 (Bat  (None, 26, 26, 64)       256       \n",
      " chNormalization)                                                \n",
      "                                                                 \n",
      " activation_33 (Activation)  (None, 26, 26, 64)        0         \n",
      "                                                                 \n",
      " max_pooling2d_24 (MaxPoolin  (None, 13, 13, 64)       0         \n",
      " g2D)                                                            \n",
      "                                                                 \n",
      " conv2d_29 (Conv2D)          (None, 11, 11, 128)       73856     \n",
      "                                                                 \n",
      " batch_normalization_26 (Bat  (None, 11, 11, 128)      512       \n",
      " chNormalization)                                                \n",
      "                                                                 \n",
      " activation_34 (Activation)  (None, 11, 11, 128)       0         \n",
      "                                                                 \n",
      " max_pooling2d_25 (MaxPoolin  (None, 5, 5, 128)        0         \n",
      " g2D)                                                            \n",
      "                                                                 \n",
      " conv2d_30 (Conv2D)          (None, 3, 3, 512)         590336    \n",
      "                                                                 \n",
      " batch_normalization_27 (Bat  (None, 3, 3, 512)        2048      \n",
      " chNormalization)                                                \n",
      "                                                                 \n",
      " activation_35 (Activation)  (None, 3, 3, 512)         0         \n",
      "                                                                 \n",
      " max_pooling2d_26 (MaxPoolin  (None, 1, 1, 512)        0         \n",
      " g2D)                                                            \n",
      "                                                                 \n",
      " flatten_4 (Flatten)         (None, 512)               0         \n",
      "                                                                 \n",
      " dense_8 (Dense)             (None, 4096)              2101248   \n",
      "                                                                 \n",
      " activation_36 (Activation)  (None, 4096)              0         \n",
      "                                                                 \n",
      " dense_9 (Dense)             (None, 10)                40970     \n",
      "                                                                 \n",
      " activation_37 (Activation)  (None, 10)                0         \n",
      "                                                                 \n",
      "=================================================================\n",
      "Total params: 2,809,866\n",
      "Trainable params: 2,808,458\n",
      "Non-trainable params: 1,408\n",
      "_________________________________________________________________\n"
     ]
    }
   ],
   "source": [
    "# regularizer in conv layers\n",
    "\n",
    "model = Sequential()\n",
    "\n",
    "model.add(Conv2D(64, (3, 3), input_shape = (28, 28, 1), kernel_regularizer=regularizers.l2(0.0001)))\n",
    "model.add(BatchNormalization())\n",
    "model.add(Activation(\"relu\"))\n",
    "\n",
    "model.add(MaxPooling2D(pool_size = (2, 2)))\n",
    "\n",
    "model.add(Conv2D(128, (3, 3), kernel_regularizer=regularizers.l2(0.0001)))\n",
    "model.add(BatchNormalization())\n",
    "model.add(Activation(\"relu\"))\n",
    "\n",
    "model.add(MaxPooling2D(pool_size = (2, 2)))\n",
    "\n",
    "# model.add(Conv2D(192, (3, 3), kernel_regularizer=regularizers.l2(0.0001)))\n",
    "# model.add(BatchNormalization())\n",
    "# model.add(Activation(\"relu\"))\n",
    "\n",
    "# model.add(MaxPooling2D(pool_size = (2, 2)))\n",
    "\n",
    "model.add(Conv2D(512, (3, 3), kernel_regularizer=regularizers.l2(0.0001)))\n",
    "model.add(BatchNormalization())\n",
    "model.add(Activation(\"relu\"))\n",
    "\n",
    "model.add(MaxPooling2D(pool_size = (2, 2)))\n",
    "\n",
    "model.add(Flatten())\n",
    "model.add(Dense(4096))\n",
    "model.add(Activation(\"relu\"))\n",
    "\n",
    "model.add(Dense(10))\n",
    "model.add(Activation('softmax'))\n",
    "\n",
    "model.summary()\n",
    "\n",
    "# BATCH_SIZE = 16\n",
    "# EPOCHS = 10\n",
    "# VAL_SPLIT = 0.1\n",
    "\n",
    "# # opt = SGD(learning_rate=0.01, momentum=0.9)\n",
    "\n",
    "# model.compile(loss=\"categorical_crossentropy\",\n",
    "#              optimizer='adam',\n",
    "#              metrics=['accuracy'])\n",
    "\n",
    "# history3 = model.fit(train_X, train_y, batch_size = BATCH_SIZE, epochs = EPOCHS, validation_split = VAL_SPLIT)\n",
    "\n",
    "# # Accuracy on test set\n",
    "# model.evaluate(test_X, test_y, verbose = 0)[1]"
   ]
  },
  {
   "cell_type": "code",
   "execution_count": 30,
   "id": "960580e9",
   "metadata": {},
   "outputs": [
    {
     "name": "stdout",
     "output_type": "stream",
     "text": [
      "Epoch 1/10\n",
      "3375/3375 [==============================] - 335s 99ms/step - loss: 0.2267 - accuracy: 0.9321 - val_loss: 0.0938 - val_accuracy: 0.9735\n",
      "Epoch 2/10\n",
      "3375/3375 [==============================] - 331s 98ms/step - loss: 0.0847 - accuracy: 0.9744 - val_loss: 0.0532 - val_accuracy: 0.9870\n",
      "Epoch 3/10\n",
      "3375/3375 [==============================] - 329s 98ms/step - loss: 0.0632 - accuracy: 0.9813 - val_loss: 0.0731 - val_accuracy: 0.9827\n",
      "Epoch 4/10\n",
      "3375/3375 [==============================] - 329s 98ms/step - loss: 0.0483 - accuracy: 0.9855 - val_loss: 0.0508 - val_accuracy: 0.9865\n",
      "Epoch 5/10\n",
      "3375/3375 [==============================] - 334s 99ms/step - loss: 0.0419 - accuracy: 0.9884 - val_loss: 0.0663 - val_accuracy: 0.9855\n",
      "Epoch 6/10\n",
      "3375/3375 [==============================] - 334s 99ms/step - loss: 0.0380 - accuracy: 0.9893 - val_loss: 0.0474 - val_accuracy: 0.9892\n",
      "Epoch 7/10\n",
      "3375/3375 [==============================] - 334s 99ms/step - loss: 0.0291 - accuracy: 0.9916 - val_loss: 0.0627 - val_accuracy: 0.9855\n",
      "Epoch 8/10\n",
      "3375/3375 [==============================] - 334s 99ms/step - loss: 0.0285 - accuracy: 0.9923 - val_loss: 0.0612 - val_accuracy: 0.9875\n",
      "Epoch 9/10\n",
      "3375/3375 [==============================] - 337s 100ms/step - loss: 0.0222 - accuracy: 0.9942 - val_loss: 0.0603 - val_accuracy: 0.9887\n",
      "Epoch 10/10\n",
      "3375/3375 [==============================] - 339s 100ms/step - loss: 0.0230 - accuracy: 0.9940 - val_loss: 0.0561 - val_accuracy: 0.9882\n"
     ]
    },
    {
     "data": {
      "text/plain": [
       "0.9740999937057495"
      ]
     },
     "execution_count": 30,
     "metadata": {},
     "output_type": "execute_result"
    }
   ],
   "source": [
    "# regularizer in conv layers\n",
    "\n",
    "model = Sequential()\n",
    "\n",
    "lmbd = 0\n",
    "\n",
    "model.add(Conv2D(64, (3, 3), input_shape = (28, 28, 1), kernel_regularizer=regularizers.l2(lmbd)))\n",
    "model.add(BatchNormalization())\n",
    "model.add(Activation(\"relu\"))\n",
    "\n",
    "model.add(Conv2D(128, (3, 3), kernel_regularizer=regularizers.l2(lmbd)))\n",
    "model.add(BatchNormalization())\n",
    "model.add(Activation(\"relu\"))\n",
    "\n",
    "model.add(MaxPooling2D(pool_size = (2, 2)))\n",
    "\n",
    "\n",
    "model.add(Conv2D(192, (3, 3), kernel_regularizer=regularizers.l2(lmbd)))\n",
    "model.add(BatchNormalization())\n",
    "model.add(Activation(\"relu\"))\n",
    "\n",
    "model.add(Conv2D(256, (3, 3), kernel_regularizer=regularizers.l2(lmbd)))\n",
    "model.add(BatchNormalization())\n",
    "model.add(Activation(\"relu\"))\n",
    "\n",
    "model.add(MaxPooling2D(pool_size = (2, 2)))\n",
    "\n",
    "# model.add(Conv2D(192, (3, 3), kernel_regularizer=regularizers.l2(0.0001)))\n",
    "# model.add(BatchNormalization())\n",
    "# model.add(Activation(\"relu\"))\n",
    "\n",
    "# model.add(MaxPooling2D(pool_size = (2, 2)))\n",
    "\n",
    "model.add(Conv2D(512, (3, 3), kernel_regularizer=regularizers.l2(lmbd)))\n",
    "model.add(BatchNormalization())\n",
    "model.add(Activation(\"relu\"))\n",
    "\n",
    "model.add(MaxPooling2D(pool_size = (2, 2)))\n",
    "\n",
    "model.add(Flatten())\n",
    "model.add(Dense(4096))\n",
    "model.add(Activation(\"relu\"))\n",
    "\n",
    "model.add(Dense(10))\n",
    "model.add(Activation('softmax'))\n",
    "\n",
    "# model.summary()\n",
    "\n",
    "BATCH_SIZE = 16\n",
    "EPOCHS = 10\n",
    "VAL_SPLIT = 0.1\n",
    "\n",
    "# opt = SGD(learning_rate=0.01, momentum=0.9)\n",
    "\n",
    "model.compile(loss=\"categorical_crossentropy\",\n",
    "             optimizer='adam',\n",
    "             metrics=['accuracy'])\n",
    "\n",
    "history3 = model.fit(train_X, train_y, batch_size = BATCH_SIZE, epochs = EPOCHS, validation_split = VAL_SPLIT)\n",
    "\n",
    "# Accuracy on test set\n",
    "model.evaluate(test_X, test_y, verbose = 0)[1]"
   ]
  },
  {
   "cell_type": "code",
   "execution_count": 35,
   "id": "960580e9",
   "metadata": {},
   "outputs": [
    {
     "name": "stdout",
     "output_type": "stream",
     "text": [
      "epoch 0\n",
      "  78/3375 [..............................] - ETA: 5:27 - loss: 1.5041 - accuracy: 0.6314"
     ]
    }
   ],
   "source": [
    "# regularizer in conv layers\n",
    "\n",
    "model = Sequential()\n",
    "\n",
    "lmbd = 0.0001\n",
    "\n",
    "model.add(Conv2D(64, (3, 3), input_shape = (28, 28, 1), kernel_regularizer=regularizers.l2(lmbd)))\n",
    "model.add(BatchNormalization())\n",
    "model.add(Activation(\"relu\"))\n",
    "\n",
    "model.add(Conv2D(128, (3, 3), kernel_regularizer=regularizers.l2(lmbd)))\n",
    "model.add(BatchNormalization())\n",
    "model.add(Activation(\"relu\"))\n",
    "\n",
    "model.add(MaxPooling2D(pool_size = (2, 2)))\n",
    "\n",
    "\n",
    "model.add(Conv2D(192, (3, 3), kernel_regularizer=regularizers.l2(lmbd)))\n",
    "model.add(BatchNormalization())\n",
    "model.add(Activation(\"relu\"))\n",
    "\n",
    "model.add(Conv2D(256, (3, 3), kernel_regularizer=regularizers.l2(lmbd)))\n",
    "model.add(BatchNormalization())\n",
    "model.add(Activation(\"relu\"))\n",
    "\n",
    "model.add(MaxPooling2D(pool_size = (2, 2)))\n",
    "\n",
    "# model.add(Conv2D(192, (3, 3), kernel_regularizer=regularizers.l2(0.0001)))\n",
    "# model.add(BatchNormalization())\n",
    "# model.add(Activation(\"relu\"))\n",
    "\n",
    "# model.add(MaxPooling2D(pool_size = (2, 2)))\n",
    "\n",
    "model.add(Conv2D(512, (3, 3), kernel_regularizer=regularizers.l2(lmbd)))\n",
    "model.add(BatchNormalization())\n",
    "model.add(Activation(\"relu\"))\n",
    "\n",
    "model.add(MaxPooling2D(pool_size = (2, 2)))\n",
    "\n",
    "model.add(Flatten())\n",
    "model.add(Dense(4096))\n",
    "model.add(Activation(\"relu\"))\n",
    "\n",
    "model.add(Dense(10))\n",
    "model.add(Activation('softmax'))\n",
    "\n",
    "# model.summary()\n",
    "\n",
    "BATCH_SIZE = 16\n",
    "EPOCHS = 10\n",
    "VAL_SPLIT = 0.1\n",
    "\n",
    "# opt = SGD(learning_rate=0.01, momentum=0.9)\n",
    "\n",
    "model.compile(loss=\"categorical_crossentropy\",\n",
    "             optimizer='adam',\n",
    "             metrics=['accuracy'])\n",
    "\n",
    "history4 = []\n",
    "\n",
    "for i in range(EPOCHS):\n",
    "    print(\"epoch \" + str(i + 1))\n",
    "\n",
    "    history4.append( model.fit(train_X, train_y, batch_size = BATCH_SIZE, epochs = 1, validation_split = VAL_SPLIT))\n",
    "    model.evaluate(test_X, test_y, verbose = 0)\n",
    "\n",
    "# Accuracy on test set\n",
    "# model.evaluate(test_X, test_y, verbose = 0)"
   ]
  }
 ],
 "metadata": {
  "kernelspec": {
   "display_name": "Python 3",
   "language": "python",
   "name": "python3"
  },
  "language_info": {
   "codemirror_mode": {
    "name": "ipython",
    "version": 3
   },
   "file_extension": ".py",
   "mimetype": "text/x-python",
   "name": "python",
   "nbconvert_exporter": "python",
   "pygments_lexer": "ipython3",
   "version": "3.10.2"
  }
 },
 "nbformat": 4,
 "nbformat_minor": 5
}
